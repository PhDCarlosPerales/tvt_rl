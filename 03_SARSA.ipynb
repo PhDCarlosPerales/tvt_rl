{
  "nbformat": 4,
  "nbformat_minor": 0,
  "metadata": {
    "colab": {
      "provenance": []
    },
    "kernelspec": {
      "name": "python3",
      "display_name": "Python 3"
    },
    "language_info": {
      "name": "python"
    }
  },
  "cells": [
    {
      "cell_type": "code",
      "source": [
        "#@title\n",
        "import base64\n",
        "def codifica(clean_text):\n",
        "  encoded = base64.b64encode(clean_text)\n",
        "  print(encoded)\n",
        "  \n",
        "def show_code(text_encoded):\n",
        "  data = base64.b64decode(text_encoded).decode('utf8')\n",
        "  print(data.replace('\\\\n', '\\n').replace('\\\\t', '\\t'))"
      ],
      "metadata": {
        "cellView": "form",
        "id": "YB1ItApe4xzt"
      },
      "execution_count": 76,
      "outputs": []
    },
    {
      "cell_type": "markdown",
      "source": [
        "# Ahora te toca a ti\n",
        "\n",
        "Las soluciones están \"encriptadas\", si quieres ver la solución, utiliza la función ```show_code(text)``` sutityendo ```text``` por la cadena oculta.\n",
        "\n",
        "Por ejemplo:\n",
        "\n",
        "Decodifica el siguiente texto\n",
        "\n",
        "```show_code('SGFzIGRlY29kaWZpY2FkbyBlbCBtZW5zYWpl')```\n"
      ],
      "metadata": {
        "id": "drRFVMIq4Ctv"
      }
    },
    {
      "cell_type": "code",
      "source": [
        "show_code('SGFzIGRlY29kaWZpY2FkbyBlbCBtZW5zYWpl')"
      ],
      "metadata": {
        "colab": {
          "base_uri": "https://localhost:8080/"
        },
        "id": "f1Wa9S465LY7",
        "outputId": "504af38d-335e-4e89-c566-8310f1c4e576"
      },
      "execution_count": 38,
      "outputs": [
        {
          "output_type": "stream",
          "name": "stdout",
          "text": [
            "Has decodificado el mensaje\n"
          ]
        }
      ]
    },
    {
      "cell_type": "markdown",
      "source": [
        "Generamos los valores aleatorios para poder repetir el experimento"
      ],
      "metadata": {
        "id": "t3Y4KGbrtumF"
      }
    },
    {
      "cell_type": "code",
      "execution_count": 14,
      "metadata": {
        "id": "uQxNajnztXPJ"
      },
      "outputs": [],
      "source": [
        "import random as rn\n",
        "import numpy as np\n",
        "np.random.seed(42)\n",
        "rn.seed(12345)\n",
        "import base64"
      ]
    },
    {
      "cell_type": "markdown",
      "source": [
        "# Definimos el juego"
      ],
      "metadata": {
        "id": "VJ0uY1dGwFbj"
      }
    },
    {
      "cell_type": "code",
      "source": [
        "#@title class NinjaCastle()\n",
        "import numpy as np\n",
        "# rewards = np.array([[0, 0, -100, 0],\n",
        "#                          [0, 0, -100, 0],\n",
        "#                          [0, 0, 0, 0],\n",
        "#                          [0, 0, 0, 100]])\n",
        "\n",
        "class NinjaCastle():\n",
        "    action_space = {\n",
        "        '👆🏽': np.array([-1, 0]), \n",
        "        '👇🏽': np.array([1, 0]),\n",
        "        '👈': np.array([0, -1]),\n",
        "        '👉': np.array([0, 1])\n",
        "    }\n",
        "    state = np.array([0, 0])  # where is the ninja\n",
        "    total_reward = 0\n",
        "    _rewards = np.array([[0, 0, -100, 0],\n",
        "                         [0, 0, -100, 0],\n",
        "                         [0, 0, 0, 0],\n",
        "                         [0, 0, 0, 100]])\n",
        "    positions_space = _rewards.shape  # inside reward\n",
        "\n",
        "    _step_penalization = -1\n",
        "    _final_state = np.array([3, 3])\n",
        "\n",
        "    def __init__(self,state_as_img=False):\n",
        "      self.state_as_img=state_as_img\n",
        "\n",
        "    def make_state(self):\n",
        "      if self.state_as_img:\n",
        "        place = self._rewards.astype(str)\n",
        "        place[self.state[0], self.state[1]] = '1'\n",
        "        return place\n",
        "      else:\n",
        "        return np.copy(self.state)\n",
        "\n",
        "    def reset(self):\n",
        "        self.total_reward = 0\n",
        "        self.state = [0, 0]\n",
        "        return self.make_state()\n",
        "\n",
        "    def render(self):\n",
        "        place = self._rewards.astype(str)\n",
        "        place[self.state[0], self.state[1]] = '👦'\n",
        "        print(place)\n",
        "\n",
        "    def step(self, action):\n",
        "        self._apply_action(action)\n",
        "        done = np.array_equal(self.state, self._final_state)  # final\n",
        "        info = \"\"\n",
        "        reward = self._rewards[self.state[0], self.state[1]]\n",
        "        reward += self._step_penalization\n",
        "        self.total_reward += reward\n",
        "        return self.make_state(), reward, done, info\n",
        "\n",
        "    def _apply_action(self, action):\n",
        "        self.state += self.action_space[action]\n",
        "        if self.state[0] > self._rewards.shape[0] - 1:\n",
        "            self.state[0] = self._rewards.shape[0] - 1\n",
        "        elif self.state[0] < 0:\n",
        "            self.state[0] = 0\n",
        "\n",
        "        if self.state[1] > self._rewards.shape[1] - 1:\n",
        "            self.state[1] = self._rewards.shape[1] - 1\n",
        "        elif self.state[1] < 0:\n",
        "            self.state[1] = 0\n"
      ],
      "metadata": {
        "cellView": "form",
        "id": "LeU4PqcCuwAk"
      },
      "execution_count": 77,
      "outputs": []
    },
    {
      "cell_type": "markdown",
      "source": [
        "Creamos el objeto game con el juego que vamos a utilizar"
      ],
      "metadata": {
        "id": "Qv8rACTkwM5J"
      }
    },
    {
      "cell_type": "code",
      "source": [
        "game=NinjaCastle()"
      ],
      "metadata": {
        "id": "FC0FBWPtvP62"
      },
      "execution_count": 78,
      "outputs": []
    },
    {
      "cell_type": "markdown",
      "source": [
        "La posibles acciones del juego se toman de la variable *action_space* del propio juego"
      ],
      "metadata": {
        "id": "dIjQfqF9yvxq"
      }
    },
    {
      "cell_type": "code",
      "source": [
        "# Estas son las posibles acciones del juego\n",
        "game.action_space.keys()"
      ],
      "metadata": {
        "colab": {
          "base_uri": "https://localhost:8080/"
        },
        "id": "yuFCl8QDvbLL",
        "outputId": "b8b35ff0-5bb6-41b8-91a2-7730077c2851"
      },
      "execution_count": 12,
      "outputs": [
        {
          "output_type": "execute_result",
          "data": {
            "text/plain": [
              "dict_keys(['👆🏽', '👇🏽', '👈', '👉'])"
            ]
          },
          "metadata": {},
          "execution_count": 12
        }
      ]
    },
    {
      "cell_type": "markdown",
      "source": [
        "# Para jugar al juego:\n",
        "### **Reseteamos el juego** \n",
        "```state=game.reset()```\n",
        "\n",
        "Tenemos el estado inicial del juego ```state```\n",
        "### **Vamos dando pasos** \n",
        "```new_state, reward, done,info =game.step('👉')```\n",
        "\n",
        "Nos devuelve un nuevo estado ```new_state```, una recompensa ```reward```, si ha terminado el juego ```done``` y algo de información ```info```\n",
        "### **Pintamos el juego**\n",
        "```game.render()```\n",
        "\n",
        "\n"
      ],
      "metadata": {
        "id": "INbQWgViweqn"
      }
    },
    {
      "cell_type": "markdown",
      "source": [
        "# Definimos la q_table\n",
        "\n",
        "Recuerda, queremos guardar por cada posición posible del juego un valor para cada una de las acciones posibles.\n",
        "\n",
        "Utiliza np.zeros(TUPLA DIMENSIONES) para crear la matriz 4x4x4"
      ],
      "metadata": {
        "id": "spt6b9wty5Le"
      }
    },
    {
      "cell_type": "code",
      "source": [
        "game.positions_space"
      ],
      "metadata": {
        "colab": {
          "base_uri": "https://localhost:8080/"
        },
        "id": "zvMpyzsYwZJe",
        "outputId": "c84df95a-2a64-4857-d15f-6ad03c39c645"
      },
      "execution_count": 42,
      "outputs": [
        {
          "output_type": "execute_result",
          "data": {
            "text/plain": [
              "(4, 4)"
            ]
          },
          "metadata": {},
          "execution_count": 42
        }
      ]
    },
    {
      "cell_type": "code",
      "source": [
        "q_table = "
      ],
      "metadata": {
        "colab": {
          "base_uri": "https://localhost:8080/"
        },
        "id": "PWr7BCDi6xa1",
        "outputId": "93a4487a-f46e-4078-8566-3b44063a7e31"
      },
      "execution_count": 48,
      "outputs": [
        {
          "output_type": "execute_result",
          "data": {
            "text/plain": [
              "(4, 4, 4)"
            ]
          },
          "metadata": {},
          "execution_count": 48
        }
      ]
    },
    {
      "cell_type": "markdown",
      "source": [
        "*Resultado*\n",
        "show_code('cG9zaXRpb24gPSBsaXN0KGdhbWUucG9zaXRpb25zX3NwYWNlKQpwb3NpdGlvbi5hcHBlbmQobGVuKGFjdGlvbl9zcGFjZSkpCnFfdGFibGUgPSBucC56ZXJvcyhwb3NpdGlvbikKcV90YWJsZS5zaGFwZQ==')\n"
      ],
      "metadata": {
        "id": "Az0ELAcRzqaq"
      }
    },
    {
      "cell_type": "markdown",
      "source": [
        "# Algoritmo SARS'A'\n",
        "Hay que programar la forma de elegir la siguiente acción\n",
        "y la ecuación de bellman\n",
        "```\n",
        "while max_steps or done:\n",
        "    accion = elegir_accion[azar,Q(s)]\n",
        "    s', reward, done, info = env.step(accion)\n",
        "    a' = elegir_accion[azar,Q(s')]\n",
        "    Q*(s,a) = bellman(s,a,s',a',r)\n",
        "```"
      ],
      "metadata": {
        "id": "StKmZeKc8U03"
      }
    },
    {
      "cell_type": "markdown",
      "source": [
        "## Elección del siguiente paso\n",
        "\n",
        "Para elegir el siguiente paso elegimos un valor al azar:\n",
        "* Si es mayor o igual que el ratio de explotación: Exploramos cogiendo una acción aleatoria.\n",
        "* Si es menor que el ratio de explotacion: Explotamos\n",
        "  * Sólo un valor máximo: esa acción\n",
        "  * Más de un valor máximo: aleatorio entre ellas\n",
        "\n",
        "\n",
        "Resultado:\n",
        "show_code('CmRlZiBnZXRfbmV4dF9zdGVwKGdhbWUscV90YWJsZSxzdGF0ZSxyYXRpb19leHBsb3RhY2lvbik6CiAgY2FuZGlkYXRlX25leHRfc3RlcCA9IG5wLnJhbmRvbS5jaG9pY2UobGlzdChnYW1lLmFjdGlvbl9zcGFjZSkpCiAgaWRfYWNjaW9uPWxpc3QoZ2FtZS5hY3Rpb25fc3BhY2UpLmluZGV4KGNhbmRpZGF0ZV9uZXh0X3N0ZXApCiAgaWYgbnAucmFuZG9tLnVuaWZvcm0oKSA8PSByYXRpb19leHBsb3RhY2lvbjoKICAgICMgdGFrZSBtYXggdW5sZXNzIHRpZSwgdGhlbiByYW5kb20KICAgIGlkX2FjY2lvbiA9IG5wLnJhbmRvbS5jaG9pY2UobnAuZmxhdG5vbnplcm8oCiAgICAgICAgcV90YWJsZVtzdGF0ZVswXSwgc3RhdGVbMV1dID09IHFfdGFibGVbc3RhdGVbMF0sIHN0YXRlWzFdXS5tYXgoKSAKICAgICkpCiAgICBjYW5kaWRhdGVfbmV4dF9zdGVwID0gbGlzdChnYW1lLmFjdGlvbl9zcGFjZSlbaWRfYWNjaW9uXQogIHJldHVybiBjYW5kaWRhdGVfbmV4dF9zdGVwLCBpZF9hY2Npb24K')"
      ],
      "metadata": {
        "id": "4kiVPdrjBSXm"
      }
    },
    {
      "cell_type": "code",
      "source": [
        "def get_next_step(game,q_table,state,ratio_explotacion):\n",
        "  # take max unless tie, then random\n",
        "  if np.random.uniform() <= ratio_explotacion:\n",
        "    id_accion=\n",
        "    ...\n",
        "    q_table[state[0], state[1]].max()\n",
        "    ...\n",
        "  return candidate_next_step, id_accion"
      ],
      "metadata": {
        "id": "rzZHEsZ4_WOh"
      },
      "execution_count": null,
      "outputs": []
    },
    {
      "cell_type": "code",
      "source": [
        "s= game.reset()\n",
        "q_table[s[0],s[1]]=[1,0,0,0]\n",
        "\n",
        "print(\"Explotando\")\n",
        "for _ in range(10):\n",
        "  print(get_next_step(game,q_table,s,1),end=\"\")\n",
        "\n",
        "print(\"\\n\\nExplotando bastante\")\n",
        "for _ in range(10):\n",
        "  print(get_next_step(game,q_table,s,0.7),end=\"\")\n",
        "\n",
        "\n",
        "print(\"\\n\\nExplorando\")\n",
        "for _ in range(10):\n",
        "  print(get_next_step(game,q_table,s,0),end=\"\")\n",
        "  "
      ],
      "metadata": {
        "colab": {
          "base_uri": "https://localhost:8080/"
        },
        "id": "oyOCOO7BCjn2",
        "outputId": "e5679e88-527c-4a63-bb9b-80a7f043a786"
      },
      "execution_count": 68,
      "outputs": [
        {
          "output_type": "stream",
          "name": "stdout",
          "text": [
            "Explotando\n",
            "('👆🏽', 0)('👆🏽', 0)('👆🏽', 0)('👆🏽', 0)('👆🏽', 0)('👆🏽', 0)('👆🏽', 0)('👆🏽', 0)('👆🏽', 0)('👆🏽', 0)\n",
            "\n",
            "Explotando bastante\n",
            "('👆🏽', 0)('👇🏽', 1)('👆🏽', 0)('👆🏽', 0)('👆🏽', 0)('👇🏽', 1)('👆🏽', 0)('👉', 3)('👆🏽', 0)('👆🏽', 0)\n",
            "\n",
            "Explorando\n",
            "('👆🏽', 0)('👇🏽', 1)('👆🏽', 0)('👈', 2)('👆🏽', 0)('👉', 3)('👈', 2)('👉', 3)('👉', 3)('👆🏽', 0)"
          ]
        }
      ]
    },
    {
      "cell_type": "markdown",
      "source": [
        "## Ecuacion de Bellman para SARS'A'\n",
        "\n",
        "\\begin{equation}\n",
        "\\underbrace{\\text{New}Q(s,a)}_{\\scriptstyle\\text{New Q-Value}}={Q(s,a)}+\\mkern-34mu\\underset{\\text{Learning Rate}}{\\underset{\\Bigl|}{\\alpha}}\\mkern-30mu[\\underbrace{R(s,a)}_{\\scriptstyle\\text{Reward}}+\\mkern-30mu\\underset{\\text{Discount rate}}{\\underset{\\Biggl|}{\\gamma }}\\mkern-75mu\\overbrace{\\ Q'(s',a')}^{\\scriptstyle\\substack{\\text{Predicted reward, given} \\\\ \\text{new state and all next action}}}\\mkern-45mu-Q(s,a)]\n",
        "\\end{equation}\n",
        "\n",
        "Resultado\n",
        "show_code('CmRlZiBhcHJlbmRpemFqZV9hX2NvcnRvX3lfbGFyZ29fcGxhem9fc2Fyc2EodmFsb3JfcV9hY3R1YWwsIHJld2FyZCwgb3BjaW9uZXNfcV9mdXR1cm8sIGlkeF9hY2Npb25fdG9tYWRhLGxlYXJuaW5nX3JhdGU9MC4xLGRpc2NvdW50X2ZhY3Rvcj0wLjEpOgogICMgbWVqb3Jfb3BjaW9uX2Z1dHVybyA9IG9wY2lvbmVzX3FfZnV0dXJvLm1heCgpICNzYXJzCiAgb3BjaW9uX2Z1dHVyYV90b21hZGEgPSBvcGNpb25lc19xX2Z1dHVyb1tpZHhfYWNjaW9uX3RvbWFkYV0KICBhcHJlbmRpemFqZV9hX2NvcnRvX3lfbGFyZ28gPSB2YWxvcl9xX2FjdHVhbCArIGxlYXJuaW5nX3JhdGUqKHJld2FyZCAtIHZhbG9yX3FfYWN0dWFsICsgKGRpc2NvdW50X2ZhY3RvciAqIG9wY2lvbl9mdXR1cmFfdG9tYWRhKSkKICByZXR1cm4gYXByZW5kaXphamVfYV9jb3J0b195X2xhcmdvCg==')"
      ],
      "metadata": {
        "id": "omasgK4YGxiT"
      }
    },
    {
      "cell_type": "code",
      "source": [
        "def aprendizaje_a_corto_y_largo_plazo_sarsa(\n",
        "    valor_q_actual, reward, opciones_q_futuro, idx_accion_tomada,\n",
        "    learning_rate=0.1,discount_factor=0.1):\n",
        "  opcion_futura_tomada = opciones_q_futuro[idx_accion_tomada]\n",
        "  aprendizaje_a_corto_y_largo = valor_q_actual + learning_rate*(...)\n",
        "  return aprendizaje_a_corto_y_largo"
      ],
      "metadata": {
        "id": "4Yld3_ItIXGZ"
      },
      "execution_count": null,
      "outputs": []
    },
    {
      "cell_type": "code",
      "source": [
        "for _ in range(10):\n",
        "  new_q_value =aprendizaje_a_corto_y_largo_plazo_sarsa(\n",
        "          q_table[0,0,0],\n",
        "          10,\n",
        "          q_table[0,1],\n",
        "          3#id ir derecha\n",
        "          )\n",
        "  q_table[0,0,0] = new_q_value\n",
        "  print(new_q_value)"
      ],
      "metadata": {
        "colab": {
          "base_uri": "https://localhost:8080/"
        },
        "id": "l699bnnOIlaA",
        "outputId": "6bca34a2-cfcb-46be-deff-1f78857b28e3"
      },
      "execution_count": 70,
      "outputs": [
        {
          "output_type": "stream",
          "name": "stdout",
          "text": [
            "1.9\n",
            "2.71\n",
            "3.439\n",
            "4.0951\n",
            "4.68559\n",
            "5.217031\n",
            "5.6953279000000006\n",
            "6.12579511\n",
            "6.5132155990000005\n",
            "6.8618940391\n"
          ]
        }
      ]
    },
    {
      "cell_type": "code",
      "source": [
        "\n",
        "def sarsa(ratio_explotacion = 0.95):\n",
        "\n",
        "  discount_factor = 0.1\n",
        "\n",
        "  game.reset()\n",
        "  game.render()\n",
        "\n",
        "  q_table = np.zeros((4,4,4))\n",
        "  resultados=[]\n",
        "\n",
        "  for n_game in range(100): # juegos\n",
        "    state = game.reset()\n",
        "    tot_rew=0\n",
        "    for _ in range(100): # vueltas\n",
        "      next_step, id_accion = get_next_step(game,q_table,state,ratio_explotacion)\n",
        "      state_new, reward, done, info = game.step(next_step)\n",
        "      tot_rew+=reward\n",
        "\n",
        "      #SARSA\n",
        "      next_post_action,_ = get_next_step(game,q_table,state_new,ratio_explotacion)\n",
        "      # print(f\"a{next_step} a'{next_post_action}\")\n",
        "\n",
        "      #actualizamos q_table\n",
        "      aprendizaje_a_corto_y_largo= aprendizaje_a_corto_y_largo_plazo_sarsa(\n",
        "          valor_q_actual=q_table[state[0],state[1],id_accion],\n",
        "          reward=reward,\n",
        "          opciones_q_futuro=q_table[state_new[0], state_new[1]],\n",
        "          idx_accion_tomada=list(game.action_space).index(next_post_action) #SARSA\n",
        "          )\n",
        "      q_table[state[0],state[1],id_accion] = aprendizaje_a_corto_y_largo\n",
        "\n",
        "      state = state_new\n",
        "      if done:\n",
        "        resultados.append(tot_rew)\n",
        "        break;\n",
        "  print(q_table)\n",
        "  return resultados"
      ],
      "metadata": {
        "id": "4-U5R0maybDN"
      },
      "execution_count": 85,
      "outputs": []
    },
    {
      "cell_type": "code",
      "source": [
        "import matplotlib.pyplot as plt\n",
        "\n",
        "resultados=sarsa()\n",
        "plt.hist(resultados, bins=20, alpha=0.5);"
      ],
      "metadata": {
        "colab": {
          "base_uri": "https://localhost:8080/",
          "height": 673
        },
        "id": "pwtKup5QJpGr",
        "outputId": "819c3a89-6fbd-49ab-bc7f-38e36a768430"
      },
      "execution_count": 86,
      "outputs": [
        {
          "output_type": "stream",
          "name": "stdout",
          "text": [
            "[['👦' '0' '-100' '0']\n",
            " ['0' '0' '-100' '0']\n",
            " ['0' '0' '0' '0']\n",
            " ['0' '0' '0' '100']]\n",
            "[[[ -1.10973466  -1.10963259  -1.11064777  -1.24486765]\n",
            "  [ -1.07718419  -1.0780883   -1.07952998 -19.19      ]\n",
            "  [  0.         -10.1         -0.10995471  -0.1       ]\n",
            "  [ -0.1         -0.1          0.           0.        ]]\n",
            "\n",
            " [[ -1.09940722  -1.09849094  -1.0990636   -1.09844492]\n",
            "  [ -1.02508014  -1.02324105  -1.03772827 -27.3729    ]\n",
            "  [-10.1         -0.17986584  -0.20021392  -0.1       ]\n",
            "  [  0.          -0.1        -10.1         -0.1       ]]\n",
            "\n",
            " [[ -1.01177163  -1.00571827  -1.005892    -1.00427988]\n",
            "  [ -0.60622739  -0.24390587  -0.59730835  -0.60867054]\n",
            "  [-10.1         -0.1         -0.1019       2.6896883 ]\n",
            "  [  0.          71.03947589   0.           0.        ]]\n",
            "\n",
            " [[ -0.54824722  -0.5369322   -0.53630817  -0.21604506]\n",
            "  [ -0.19504269  -0.16607427  -0.1          8.80724873]\n",
            "  [ -0.15506372   0.88728846  -0.19433858  98.99068944]\n",
            "  [  0.           0.           0.           0.        ]]]\n"
          ]
        },
        {
          "output_type": "display_data",
          "data": {
            "text/plain": [
              "<Figure size 432x288 with 1 Axes>"
            ],
            "image/png": "[encoded data removed]"
          },
          "metadata": {
            "needs_background": "light"
          }
        }
      ]
    }
  ]
}