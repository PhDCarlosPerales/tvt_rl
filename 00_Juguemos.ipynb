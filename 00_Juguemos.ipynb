{
  "nbformat": 4,
  "nbformat_minor": 0,
  "metadata": {
    "colab": {
      "provenance": []
    },
    "kernelspec": {
      "name": "python3",
      "display_name": "Python 3"
    },
    "language_info": {
      "name": "python"
    }
  },
  "cells": [
    {
      "cell_type": "markdown",
      "source": [
        "# Juguemos\n",
        "Ejecuta el código de abajo sin mirarlo.\n",
        "Vamos a jugar a un juego, llamado Ninja Castle."
      ],
      "metadata": {
        "id": "_R_XXADYy--i"
      }
    },
    {
      "cell_type": "code",
      "execution_count": 1,
      "metadata": {
        "cellView": "form",
        "id": "6wgKxcgLvs_5"
      },
      "outputs": [],
      "source": [
        "#@title\n",
        "import numpy as np\n",
        "class NinjaCastle():\n",
        "    action_space = {\n",
        "        '👆🏽': np.array([-1, 0]), \n",
        "        '👇🏽': np.array([1, 0]),\n",
        "        '👈': np.array([0, -1]),\n",
        "        '👉': np.array([0, 1])\n",
        "    }\n",
        "    state = np.array([0, 0])  # where is the ninja\n",
        "\n",
        "    total_reward = 0\n",
        "    _rewards = np.array([[0, 0, -100, 0],\n",
        "                         [0, 0, -100, 0],\n",
        "                         [0, 0, 0, 0],\n",
        "                         [0, 0, 0, 100]])\n",
        "    positions_space = _rewards.shape  # inside reward\n",
        "\n",
        "    _step_penalization = -1\n",
        "    _final_state = np.array([3, 3])\n",
        "\n",
        "    def __init__(self,state_as_img=False):\n",
        "      self.state_as_img=state_as_img\n",
        "\n",
        "    def make_state(self):\n",
        "      if self.state_as_img:\n",
        "        place = self._rewards.astype(str)\n",
        "        place[self.state[0], self.state[1]] = '1'\n",
        "        return place\n",
        "      else:\n",
        "        return np.copy(self.state)\n",
        "\n",
        "    def reset(self):\n",
        "        self.total_reward = 0\n",
        "        self.state = [0, 0]\n",
        "        return self.make_state()\n",
        "\n",
        "    def render(self):\n",
        "        place = self._rewards\n",
        "        place=place.astype(str)\n",
        "        place[:]= \"?\"\n",
        "        place[self.state[0], self.state[1]] = '👦'\n",
        "        print(place)\n",
        "\n",
        "    def step(self, action):\n",
        "        self._apply_action(action)\n",
        "        done = np.array_equal(self.state, self._final_state)  # final\n",
        "        info = \"\"\n",
        "        reward = self._rewards[self.state[0], self.state[1]]\n",
        "        reward += self._step_penalization\n",
        "        self.total_reward += reward\n",
        "        return self.make_state(), reward, done, info\n",
        "\n",
        "    def _apply_action(self, action):\n",
        "        self.state += self.action_space[action]\n",
        "        if self.state[0] > self._rewards.shape[0] - 1:\n",
        "            self.state[0] = self._rewards.shape[0] - 1\n",
        "        elif self.state[0] < 0:\n",
        "            self.state[0] = 0\n",
        "\n",
        "        if self.state[1] > self._rewards.shape[1] - 1:\n",
        "            self.state[1] = self._rewards.shape[1] - 1\n",
        "        elif self.state[1] < 0:\n",
        "            self.state[1] = 0\n",
        "\n"
      ]
    },
    {
      "cell_type": "code",
      "source": [
        "game=NinjaCastle()\n",
        "action_space = game.action_space\n",
        "action_space.keys()"
      ],
      "metadata": {
        "colab": {
          "base_uri": "https://localhost:8080/"
        },
        "id": "lbfxCleCwGJ0",
        "outputId": "4eaa2f2e-983b-4905-8563-80caf12b52fe"
      },
      "execution_count": 2,
      "outputs": [
        {
          "output_type": "execute_result",
          "data": {
            "text/plain": [
              "dict_keys(['👆🏽', '👇🏽', '👈', '👉'])"
            ]
          },
          "metadata": {},
          "execution_count": 2
        }
      ]
    },
    {
      "cell_type": "markdown",
      "source": [
        "Como puedes ver, las acciones que puedes realizar son las de arriba, moverte en 4 direcciones."
      ],
      "metadata": {
        "id": "kSgZRwJkzNny"
      }
    },
    {
      "cell_type": "code",
      "source": [
        "game.render()"
      ],
      "metadata": {
        "colab": {
          "base_uri": "https://localhost:8080/"
        },
        "id": "etTtBP94xy36",
        "outputId": "9c536648-7d5e-4a0e-fc95-36ec879bbec3"
      },
      "execution_count": 3,
      "outputs": [
        {
          "output_type": "stream",
          "name": "stdout",
          "text": [
            "[['👦' '?' '?' '?']\n",
            " ['?' '?' '?' '?']\n",
            " ['?' '?' '?' '?']\n",
            " ['?' '?' '?' '?']]\n"
          ]
        }
      ]
    },
    {
      "cell_type": "markdown",
      "source": [
        "Y tu tablero es de 4x4 casillas"
      ],
      "metadata": {
        "id": "X7ZQxWIvzVJE"
      }
    },
    {
      "cell_type": "code",
      "source": [
        "def jugar(accion):\n",
        "  _, reward, done,_ =game.step(accion)\n",
        "  game.render()\n",
        "  print(f\"Recompensa: {reward}\\nTotal: {game.total_reward}\\nHa terminado el juego? {done}\")"
      ],
      "metadata": {
        "id": "Wq2VD59DvxAC"
      },
      "execution_count": 4,
      "outputs": []
    },
    {
      "cell_type": "code",
      "source": [
        "game.reset()\n",
        "jugar(\"👉\")\n",
        "jugar('👇🏽')"
      ],
      "metadata": {
        "colab": {
          "base_uri": "https://localhost:8080/"
        },
        "id": "135RbeEkv8Am",
        "outputId": "db5b97e4-a32a-4e2a-d96f-2d11c5a31fd1"
      },
      "execution_count": 5,
      "outputs": [
        {
          "output_type": "stream",
          "name": "stdout",
          "text": [
            "[['?' '👦' '?' '?']\n",
            " ['?' '?' '?' '?']\n",
            " ['?' '?' '?' '?']\n",
            " ['?' '?' '?' '?']]\n",
            "Recompensa: -1\n",
            "Total: -1\n",
            "Ha terminado el juego? False\n",
            "[['?' '?' '?' '?']\n",
            " ['?' '👦' '?' '?']\n",
            " ['?' '?' '?' '?']\n",
            " ['?' '?' '?' '?']]\n",
            "Recompensa: -1\n",
            "Total: -2\n",
            "Ha terminado el juego? False\n"
          ]
        }
      ]
    },
    {
      "cell_type": "markdown",
      "source": [
        "Cada vez que juegas, puedes ver una recompensa y el total acumulado.\n",
        "\n",
        "## Tu reto\n",
        "\n",
        "Obtener la mayor puntuación posible cuando termine el juego"
      ],
      "metadata": {
        "id": "3b73ME43zc-k"
      }
    }
  ]
}