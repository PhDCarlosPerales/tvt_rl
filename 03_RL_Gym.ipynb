{
  "nbformat": 4,
  "nbformat_minor": 0,
  "metadata": {
    "colab": {
      "name": "Copia de Copia de RL_Gym.ipynb",
      "provenance": [],
      "collapsed_sections": []
    },
    "kernelspec": {
      "name": "python3",
      "display_name": "Python 3"
    },
    "language_info": {
      "name": "python"
    },
    "accelerator": "GPU"
  },
  "cells": [
    {
      "cell_type": "markdown",
      "source": [
        "# 1. Renderizar OpenAI Gym en Colab\n"
      ],
      "metadata": {
        "id": "jiMDooAqpTOI"
      }
    },
    {
      "cell_type": "code",
      "execution_count": 1,
      "metadata": {
        "id": "XEPmV_erpEMQ",
        "outputId": "a64d3b5b-1144-4017-8ae1-f9d57cce1827",
        "colab": {
          "base_uri": "https://localhost:8080/"
        }
      },
      "outputs": [
        {
          "output_type": "stream",
          "name": "stdout",
          "text": [
            "Looking in indexes: https://pypi.org/simple, https://us-python.pkg.dev/colab-wheels/public/simple/\n",
            "Requirement already satisfied: gym in /usr/local/lib/python3.7/dist-packages (0.23.1)\n",
            "Requirement already satisfied: pyvirtualdisplay in /usr/local/lib/python3.7/dist-packages (3.0)\n",
            "Requirement already satisfied: numpy>=1.18.0 in /usr/local/lib/python3.7/dist-packages (from gym) (1.21.6)\n",
            "Requirement already satisfied: importlib-metadata>=4.10.0 in /usr/local/lib/python3.7/dist-packages (from gym) (4.11.3)\n",
            "Requirement already satisfied: gym-notices>=0.0.4 in /usr/local/lib/python3.7/dist-packages (from gym) (0.0.6)\n",
            "Requirement already satisfied: cloudpickle>=1.2.0 in /usr/local/lib/python3.7/dist-packages (from gym) (1.3.0)\n",
            "Requirement already satisfied: typing-extensions>=3.6.4 in /usr/local/lib/python3.7/dist-packages (from importlib-metadata>=4.10.0->gym) (4.2.0)\n",
            "Requirement already satisfied: zipp>=0.5 in /usr/local/lib/python3.7/dist-packages (from importlib-metadata>=4.10.0->gym) (3.8.0)\n",
            "Reading package lists... Done\n",
            "Building dependency tree       \n",
            "Reading state information... Done\n",
            "python-opengl is already the newest version (3.1.0+dfsg-1).\n",
            "ffmpeg is already the newest version (7:3.4.8-0ubuntu0.2).\n",
            "xvfb is already the newest version (2:1.19.6-1ubuntu4.10).\n",
            "The following package was automatically installed and is no longer required:\n",
            "  libnvidia-common-460\n",
            "Use 'apt autoremove' to remove it.\n",
            "0 upgraded, 0 newly installed, 0 to remove and 56 not upgraded.\n",
            "Hit:1 https://developer.download.nvidia.com/compute/cuda/repos/ubuntu1804/x86_64  InRelease\n",
            "Hit:2 http://security.ubuntu.com/ubuntu bionic-security InRelease\n",
            "Hit:3 https://cloud.r-project.org/bin/linux/ubuntu bionic-cran40/ InRelease\n",
            "Ign:4 https://developer.download.nvidia.com/compute/machine-learning/repos/ubuntu1804/x86_64  InRelease\n",
            "Hit:5 https://developer.download.nvidia.com/compute/machine-learning/repos/ubuntu1804/x86_64  Release\n",
            "Hit:6 http://archive.ubuntu.com/ubuntu bionic InRelease\n",
            "Hit:7 http://ppa.launchpad.net/c2d4u.team/c2d4u4.0+/ubuntu bionic InRelease\n",
            "Hit:8 http://archive.ubuntu.com/ubuntu bionic-updates InRelease\n",
            "Hit:9 http://archive.ubuntu.com/ubuntu bionic-backports InRelease\n",
            "Hit:10 http://ppa.launchpad.net/cran/libgit2/ubuntu bionic InRelease\n",
            "Hit:11 http://ppa.launchpad.net/deadsnakes/ppa/ubuntu bionic InRelease\n",
            "Hit:13 http://ppa.launchpad.net/graphics-drivers/ppa/ubuntu bionic InRelease\n",
            "Reading package lists... Done\n",
            "Reading package lists... Done\n",
            "Building dependency tree       \n",
            "Reading state information... Done\n",
            "cmake is already the newest version (3.10.2-1ubuntu2.18.04.2).\n",
            "The following package was automatically installed and is no longer required:\n",
            "  libnvidia-common-460\n",
            "Use 'apt autoremove' to remove it.\n",
            "0 upgraded, 0 newly installed, 0 to remove and 56 not upgraded.\n",
            "Looking in indexes: https://pypi.org/simple, https://us-python.pkg.dev/colab-wheels/public/simple/\n",
            "Requirement already satisfied: setuptools in /usr/local/lib/python3.7/dist-packages (62.3.2)\n",
            "Looking in indexes: https://pypi.org/simple, https://us-python.pkg.dev/colab-wheels/public/simple/\n",
            "Requirement already satisfied: ez_setup in /usr/local/lib/python3.7/dist-packages (0.9)\n",
            "Looking in indexes: https://pypi.org/simple, https://us-python.pkg.dev/colab-wheels/public/simple/\n",
            "Requirement already satisfied: gym[accept-rom-license,atari] in /usr/local/lib/python3.7/dist-packages (0.23.1)\n",
            "Requirement already satisfied: numpy>=1.18.0 in /usr/local/lib/python3.7/dist-packages (from gym[accept-rom-license,atari]) (1.21.6)\n",
            "Requirement already satisfied: gym-notices>=0.0.4 in /usr/local/lib/python3.7/dist-packages (from gym[accept-rom-license,atari]) (0.0.6)\n",
            "Requirement already satisfied: importlib-metadata>=4.10.0 in /usr/local/lib/python3.7/dist-packages (from gym[accept-rom-license,atari]) (4.11.3)\n",
            "Requirement already satisfied: cloudpickle>=1.2.0 in /usr/local/lib/python3.7/dist-packages (from gym[accept-rom-license,atari]) (1.3.0)\n",
            "Requirement already satisfied: ale-py~=0.7.4 in /usr/local/lib/python3.7/dist-packages (from gym[accept-rom-license,atari]) (0.7.5)\n",
            "Requirement already satisfied: autorom[accept-rom-license]~=0.4.2 in /usr/local/lib/python3.7/dist-packages (from gym[accept-rom-license,atari]) (0.4.2)\n",
            "Requirement already satisfied: importlib-resources in /usr/local/lib/python3.7/dist-packages (from ale-py~=0.7.4->gym[accept-rom-license,atari]) (5.7.1)\n",
            "Requirement already satisfied: tqdm in /usr/local/lib/python3.7/dist-packages (from autorom[accept-rom-license]~=0.4.2->gym[accept-rom-license,atari]) (4.64.0)\n",
            "Requirement already satisfied: click in /usr/local/lib/python3.7/dist-packages (from autorom[accept-rom-license]~=0.4.2->gym[accept-rom-license,atari]) (7.1.2)\n",
            "Requirement already satisfied: requests in /usr/local/lib/python3.7/dist-packages (from autorom[accept-rom-license]~=0.4.2->gym[accept-rom-license,atari]) (2.23.0)\n",
            "Requirement already satisfied: AutoROM.accept-rom-license in /usr/local/lib/python3.7/dist-packages (from autorom[accept-rom-license]~=0.4.2->gym[accept-rom-license,atari]) (0.4.2)\n",
            "Requirement already satisfied: zipp>=0.5 in /usr/local/lib/python3.7/dist-packages (from importlib-metadata>=4.10.0->gym[accept-rom-license,atari]) (3.8.0)\n",
            "Requirement already satisfied: typing-extensions>=3.6.4 in /usr/local/lib/python3.7/dist-packages (from importlib-metadata>=4.10.0->gym[accept-rom-license,atari]) (4.2.0)\n",
            "Requirement already satisfied: idna<3,>=2.5 in /usr/local/lib/python3.7/dist-packages (from requests->autorom[accept-rom-license]~=0.4.2->gym[accept-rom-license,atari]) (2.10)\n",
            "Requirement already satisfied: urllib3!=1.25.0,!=1.25.1,<1.26,>=1.21.1 in /usr/local/lib/python3.7/dist-packages (from requests->autorom[accept-rom-license]~=0.4.2->gym[accept-rom-license,atari]) (1.24.3)\n",
            "Requirement already satisfied: chardet<4,>=3.0.2 in /usr/local/lib/python3.7/dist-packages (from requests->autorom[accept-rom-license]~=0.4.2->gym[accept-rom-license,atari]) (3.0.4)\n",
            "Requirement already satisfied: certifi>=2017.4.17 in /usr/local/lib/python3.7/dist-packages (from requests->autorom[accept-rom-license]~=0.4.2->gym[accept-rom-license,atari]) (2022.5.18.1)\n"
          ]
        }
      ],
      "source": [
        "install=True\n",
        "if install:\n",
        "  !pip install gym pyvirtualdisplay\n",
        "  !apt-get install -y xvfb python-opengl ffmpeg\n",
        "  !apt-get update\n",
        "  !apt-get install cmake\n",
        "  !pip install --upgrade setuptools\n",
        "  !pip install ez_setup\n",
        "  !pip install -U gym>=0.21.0\n",
        "  !pip install -U gym[atari,accept-rom-license]"
      ]
    },
    {
      "cell_type": "markdown",
      "source": [
        "# **¡¡¡¡¡REINICIAR ENTORNO!!!!**"
      ],
      "metadata": {
        "id": "pF4nyYANdlvA"
      }
    },
    {
      "cell_type": "markdown",
      "source": [
        "# 2. Primera partida"
      ],
      "metadata": {
        "id": "IBrUOZsumUdD"
      }
    },
    {
      "cell_type": "code",
      "source": [
        "# Funciones para mostrar\n",
        "import gym\n",
        "# from gym.wrappers import Monitor\n",
        "from gym.wrappers.monitoring.video_recorder import VideoRecorder\n",
        "import glob\n",
        "import io\n",
        "import base64\n",
        "from IPython.display import HTML\n",
        "from pyvirtualdisplay import Display\n",
        "from IPython import display as ipythondisplay\n",
        "\n",
        "display = Display(visible=0, size=(1400, 900))\n",
        "display.start()\n",
        "\n",
        "\"\"\"\n",
        "Utility functions to enable video recording of gym environment \n",
        "and displaying it.\n",
        "To enable video, just do \"env = wrap_env(env)\"\"\n",
        "\"\"\"\n",
        "import os\n",
        "import uuid\n",
        "\n",
        "def show_video():\n",
        "  mp4list = sorted(glob.glob('video/*.mp4'), key=os.path.getmtime)\n",
        "  for mp4 in mp4list:\n",
        "    # mp4 = mp4list[0]\n",
        "    video = io.open(mp4, 'r+b').read()\n",
        "    encoded = base64.b64encode(video)\n",
        "    ipythondisplay.display(HTML(data='''<h1>{1}</h1><video alt=\"test\" autoplay \n",
        "                loop controls style=\"height: 400px;\">\n",
        "                <source src=\"data:video/mp4;base64,{0}\" type=\"video/mp4\" />\n",
        "             </video>'''.format(encoded.decode('ascii'),mp4)))\n",
        "  else: \n",
        "    pass\n",
        "    \n",
        "\n",
        "def wrap_env(env):\n",
        "  import os\n",
        "  id=f'./video/{uuid.uuid1()}.mp4'\n",
        "  print(os.getcwd(),id)\n",
        "  os.makedirs(\"./video\",exist_ok=True)\n",
        "  # env = Monitor(env,id , force=False)\n",
        "  video_recorder = VideoRecorder(env, id, enabled=True)\n",
        "  return env, video_recorder"
      ],
      "metadata": {
        "id": "B5gjx285phgy"
      },
      "execution_count": 18,
      "outputs": []
    },
    {
      "cell_type": "markdown",
      "source": [
        "### Entorno"
      ],
      "metadata": {
        "id": "pzZYXqBTpr92"
      }
    },
    {
      "cell_type": "code",
      "source": [
        "import gym\n",
        "\n",
        "def query_environment(name):\n",
        "  env = gym.make(name)\n",
        "  spec = gym.spec(name)\n",
        "  print(f\"Action Space: {env.action_space}\")\n",
        "  print(f\"Observation Space: {env.observation_space.shape}\")\n",
        "  print(f\"Max Episode Steps: {spec.max_episode_steps}\")\n",
        "  print(f\"Nondeterministic: {spec.nondeterministic}\")\n",
        "  print(f\"Reward Range: {env.reward_range}\")\n",
        "  print(f\"Reward Threshold: {spec.reward_threshold}\")"
      ],
      "metadata": {
        "id": "KIwcTsGippn8"
      },
      "execution_count": 2,
      "outputs": []
    },
    {
      "cell_type": "code",
      "source": [
        "query_environment(\"BreakoutDeterministic-v4\")"
      ],
      "metadata": {
        "colab": {
          "base_uri": "https://localhost:8080/"
        },
        "id": "jffaAeAxp5fB",
        "outputId": "87cf8c04-04a4-4f6e-d23d-37981ea25c89"
      },
      "execution_count": 3,
      "outputs": [
        {
          "output_type": "stream",
          "name": "stdout",
          "text": [
            "Action Space: Discrete(4)\n",
            "Observation Space: (210, 160, 3)\n",
            "Max Episode Steps: 100000\n",
            "Nondeterministic: False\n",
            "Reward Range: (-inf, inf)\n",
            "Reward Threshold: None\n"
          ]
        }
      ]
    },
    {
      "cell_type": "code",
      "source": [
        "!rm -rf video\n",
        "env, video_recorder= wrap_env(gym.make(\"BreakoutDeterministic-v4\",render_mode=\"human\"))\n",
        " \n",
        "\n",
        "observation = env.reset()\n",
        "\n",
        "while True:\n",
        "  \n",
        "    # env.render()\n",
        "    video_recorder.capture_frame()\n",
        "    \n",
        "    #your agent goes here\n",
        "    action = env.action_space.sample() \n",
        "         \n",
        "    observation, reward, done, info = env.step(action) \n",
        "   \n",
        "        \n",
        "    if done: \n",
        "      break;\n",
        "\n",
        "video_recorder.close()            \n",
        "env.close()\n",
        "\n"
      ],
      "metadata": {
        "colab": {
          "base_uri": "https://localhost:8080/"
        },
        "id": "vnV1LGbIp979",
        "outputId": "7a26814b-976c-41dc-a6ad-cf4d51496f5c"
      },
      "execution_count": 4,
      "outputs": [
        {
          "output_type": "stream",
          "name": "stdout",
          "text": [
            "/content ./video/ba087dce-dc3a-11ec-85b2-0242ac1c0002.mp4\n"
          ]
        },
        {
          "output_type": "stream",
          "name": "stderr",
          "text": [
            "/usr/local/lib/python3.7/dist-packages/gym/wrappers/monitoring/video_recorder.py:422: DeprecationWarning: distutils Version classes are deprecated. Use packaging.version instead.\n",
            "  np.__version__\n"
          ]
        }
      ]
    },
    {
      "cell_type": "code",
      "source": [
        "show_video()\n"
      ],
      "metadata": {
        "colab": {
          "base_uri": "https://localhost:8080/",
          "height": 1000
        },
        "id": "Mf1E22pJsWUa",
        "outputId": "40389e9e-eea3-4de4-8628-93b02b29c9f7"
      },
      "execution_count": 19,
      "outputs": [
        {
          "output_type": "display_data",
          "data": {
            "text/plain": [
              "<IPython.core.display.HTML object>"
            ],
            "text/html": [
              "<h1>video/c18670d8-dc3a-11ec-85b2-0242ac1c0002.mp4</h1><video alt=\"test\" autoplay \n",
              "                loop controls style=\"height: 400px;\">\n",
              "                <source src=\"data:video/mp4;base64,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\" type=\"video/mp4\" />\n",
              "             </video>"
            ]
          },
          "metadata": {}
        },
        {
          "output_type": "display_data",
          "data": {
            "text/plain": [
              "<IPython.core.display.HTML object>"
            ],
            "text/html": [
              "<h1>video/d4bbf39e-dc3a-11ec-85b2-0242ac1c0002.mp4</h1><video alt=\"test\" autoplay \n",
              "                loop controls style=\"height: 400px;\">\n",
              "                <source src=\"data:video/mp4;base64,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\" type=\"video/mp4\" />\n",
              "             </video>"
            ]
          },
          "metadata": {}
        },
        {
          "output_type": "display_data",
          "data": {
            "text/plain": [
              "<IPython.core.display.HTML object>"
            ],
            "text/html": [
              "<h1>video/e7fa5554-dc3a-11ec-85b2-0242ac1c0002.mp4</h1><video alt=\"test\" autoplay \n",
              "                loop controls style=\"height: 400px;\">\n",
              "                <source src=\"data:video/mp4;base64,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\" type=\"video/mp4\" />\n",
              "             </video>"
            ]
          },
          "metadata": {}
        }
      ]
    },
    {
      "cell_type": "markdown",
      "source": [
        "# 3. Preparando NN Atari Breakout"
      ],
      "metadata": {
        "id": "sRH0IrtmnuKv"
      }
    },
    {
      "cell_type": "code",
      "source": [
        "from abc import ABCMeta, abstractmethod\n",
        "\n",
        "\n",
        "class GameInterface(metaclass=ABCMeta):\n",
        "    @property\n",
        "    def action_space(self):\n",
        "        return NotImplementedError\n",
        "\n",
        "    @property\n",
        "    def state(self):\n",
        "        return NotImplementedError\n",
        "\n",
        "    @property\n",
        "    def total_reward(self):\n",
        "        return NotImplementedError\n",
        "\n",
        "    @property\n",
        "    def positions_space(self):\n",
        "        return NotImplementedError\n",
        "\n",
        "    @abstractmethod\n",
        "    def reset(self):\n",
        "        pass\n",
        "\n",
        "    @abstractmethod\n",
        "    def render(self):\n",
        "        pass\n",
        "\n",
        "    @abstractmethod\n",
        "    def step(self, action):\n",
        "        pass\n"
      ],
      "metadata": {
        "id": "h1twpJ_mp-Up"
      },
      "execution_count": 6,
      "outputs": []
    },
    {
      "cell_type": "code",
      "source": [
        "from collections import deque\n",
        "\n",
        "import cv2\n",
        "import gym\n",
        "import numpy as np\n",
        "from gym import spaces\n",
        "from tensorflow import keras\n",
        "\n",
        "# from .game_interface import GameInterface\n",
        "\n",
        "FRAMES_IN_OBSERVATION = 4\n",
        "FRAME_SIZE = 84\n",
        "# if keras.backend.image_data_format() == 'channels_first':\n",
        "#     # INPUT_SHAPE = (FRAMES_IN_OBSERVATION, FRAME_SIZE, FRAME_SIZE)\n",
        "#     INPUT_SHAPE = (1, FRAMES_IN_OBSERVATION * FRAME_SIZE, FRAME_SIZE)\n",
        "# else:\n",
        "#     INPUT_SHAPE = (FRAME_SIZE * FRAMES_IN_OBSERVATION, FRAME_SIZE, 1)\n",
        "\n",
        "\n",
        "class ProcessFrame84(gym.ObservationWrapper):\n",
        "    def __init__(self, env=None):\n",
        "        super(ProcessFrame84, self).__init__(env)\n",
        "        self.observation_space = spaces.Box(low=0, high=255, shape=(84, 84, 1))\n",
        "\n",
        "    def observation(self, obs):\n",
        "        return ProcessFrame84.process(obs)\n",
        "\n",
        "    @staticmethod\n",
        "    def process(frame):\n",
        "        if frame.size == 210 * 160 * 3:\n",
        "            img = np.reshape(frame, [210, 160, 3]).astype(np.float32)\n",
        "        elif frame.size == 250 * 160 * 3:\n",
        "            img = np.reshape(frame, [250, 160, 3]).astype(np.float32)\n",
        "        else:\n",
        "            assert False, \"Unknown resolution.\"\n",
        "        img = img[:, :, 0] * 0.299 + img[:, :, 1] * 0.587 + img[:, :, 2] * 0.114\n",
        "        resized_screen = cv2.resize(img, (84, 110), interpolation=cv2.INTER_AREA)\n",
        "        x_t = resized_screen[18:102, :]\n",
        "        x_t = np.reshape(x_t, [84, 84, 1])\n",
        "        return x_t.astype(np.uint8)\n",
        "\n",
        "\n",
        "class LazyFrames(object):\n",
        "    def __init__(self, frames):\n",
        "        \"\"\"This object ensures that common frames between the observations are only stored once.\n",
        "        It exists purely to optimize memory usage which can be huge for DQN's 1M frames replay\n",
        "        buffers.\n",
        "        This object should only be converted to numpy array before being passed to the model.\n",
        "        You'd not belive how complex the previous solution was.\"\"\"\n",
        "        self._frames = frames\n",
        "\n",
        "    def __array__(self, dtype=None):\n",
        "        out = np.concatenate(self._frames, axis=0)\n",
        "        if dtype is not None:\n",
        "            out = out.astype(dtype)\n",
        "        return out\n",
        "\n",
        "\n",
        "class FrameStack(gym.Wrapper):\n",
        "    def __init__(self, env, k):\n",
        "        \"\"\"Stack k last frames.\n",
        "        Returns lazy array, which is much more memory efficient.\n",
        "        See Also\n",
        "        --------\n",
        "        baselines.common.atari_wrappers.LazyFrames\n",
        "        \"\"\"\n",
        "        gym.Wrapper.__init__(self, env)\n",
        "        self.k = k\n",
        "        self.frames = deque([], maxlen=k)\n",
        "        shp = env.observation_space.shape\n",
        "        self.observation_space = spaces.Box(low=0, high=255, shape=(shp[0] * k, shp[1], shp[2]))\n",
        "\n",
        "    def reset(self):\n",
        "        ob = self.env.reset()\n",
        "        for _ in range(self.k):\n",
        "            self.frames.append(ob)\n",
        "        return self._get_ob()\n",
        "\n",
        "    def step(self, action):\n",
        "        ob, reward, done, info = self.env.step(action)\n",
        "        self.frames.append(ob)\n",
        "        return self._get_ob(), reward, done, info\n",
        "\n",
        "    def _get_ob(self):\n",
        "        assert len(self.frames) == self.k\n",
        "        return LazyFrames(list(self.frames))\n",
        "\n",
        "\n",
        "class MainGymWrapper:\n",
        "    @staticmethod\n",
        "    def wrap(env):\n",
        "        env = ProcessFrame84(env)\n",
        "        env = FrameStack(env, 4)\n",
        "        return env\n",
        "\n",
        "\n",
        "class Breakout():\n",
        "    def __init__(self):\n",
        "      \n",
        "      pygame, video_recorder=wrap_env(MainGymWrapper.wrap(gym.make(\"BreakoutDeterministic-v4\", render_mode='rgb_array')))\n",
        "      self._pygame = pygame\n",
        "      self.video_recorder=video_recorder\n",
        "\n",
        "      self.action_space = {key: val for key, val in enumerate(range(pygame.action_space.n))}\n",
        "      self.state = None  # where is the ninja\n",
        "      self.total_reward = 0\n",
        "      self.positions_space = self._pygame.observation_space.shape  # inside reward\n",
        "\n",
        "    def reset(self):\n",
        "        self.total_reward = 0\n",
        "        self.state = self._pygame.reset()\n",
        "        return self.state\n",
        "\n",
        "    def render(self):\n",
        "        self.video_recorder.capture_frame()\n",
        "        # self._pygame.render()\n",
        "\n",
        "    def step(self, action):\n",
        "        next_state, reward, terminal, info = self._pygame.step(action)\n",
        "        self.state = next_state\n",
        "\n",
        "        self.total_reward += reward\n",
        "        return next_state, reward, terminal, info\n"
      ],
      "metadata": {
        "id": "b3qNzdLhqXGO",
        "colab": {
          "base_uri": "https://localhost:8080/"
        },
        "outputId": "d665ef6f-3b50-41d9-8f89-07093120fc81"
      },
      "execution_count": 7,
      "outputs": [
        {
          "output_type": "stream",
          "name": "stderr",
          "text": [
            "/usr/local/lib/python3.7/dist-packages/scipy/fft/__init__.py:97: DeprecationWarning: The module numpy.dual is deprecated.  Instead of using dual, use the functions directly from numpy or scipy.\n",
            "  from numpy.dual import register_func\n",
            "/usr/local/lib/python3.7/dist-packages/scipy/sparse/sputils.py:17: DeprecationWarning: `np.typeDict` is a deprecated alias for `np.sctypeDict`.\n",
            "  supported_dtypes = [np.typeDict[x] for x in supported_dtypes]\n",
            "/usr/local/lib/python3.7/dist-packages/scipy/special/orthogonal.py:81: DeprecationWarning: `np.int` is a deprecated alias for the builtin `int`. To silence this warning, use `int` by itself. Doing this will not modify any behavior and is safe. When replacing `np.int`, you may wish to use e.g. `np.int64` or `np.int32` to specify the precision. If you wish to review your current use, check the release note link for additional information.\n",
            "Deprecated in NumPy 1.20; for more details and guidance: https://numpy.org/devdocs/release/1.20.0-notes.html#deprecations\n",
            "  from numpy import (exp, inf, pi, sqrt, floor, sin, cos, around, int,\n"
          ]
        }
      ]
    },
    {
      "cell_type": "markdown",
      "source": [
        "# 4. RL con Atari"
      ],
      "metadata": {
        "id": "Vz5I-5NcoDT-"
      }
    },
    {
      "cell_type": "code",
      "source": [
        "import random\n",
        "\n",
        "from tensorflow.keras import Sequential\n",
        "from tensorflow.keras.layers import Dense\n",
        "from tensorflow.keras.layers import Flatten, Conv2D\n",
        "from tensorflow.keras.optimizers import Adam\n",
        "import numpy as np\n",
        "from tensorflow.keras.optimizers import RMSprop\n",
        "\n",
        "\n",
        "class NNLearner():\n",
        "    def __init__(self, game):\n",
        "        self.state_size = game.positions_space\n",
        "\n",
        "        self.grid_size = np.prod(game.positions_space)\n",
        "        self.action_size = len(game.action_space)\n",
        "        self.memory = list()  # deque(maxlen=2000)\n",
        "        self.max_memory = 2000\n",
        "        self.learning_rate = 0.1  # discount rate\n",
        "        self.ratio_explotacion = 0.8  # 0.95# 0.8  # exploration rate\n",
        "        self.explotacion_min = 0.05\n",
        "        self.explotacion_decay = 0.995\n",
        "        self.model_learning_rate = 0.001\n",
        "        self.discount_factor = 0.1\n",
        "        self.model = self._crear_modelo()\n",
        "        self.game = game\n",
        "        self.update_iteration = 0\n",
        "\n",
        "    def _crear_modelo(self):\n",
        "        model = Sequential()\n",
        "        model.add(Conv2D(32,\n",
        "                              8,\n",
        "                              strides=(4, 4),\n",
        "                              padding=\"valid\",\n",
        "                              activation=\"relu\",\n",
        "                              input_shape=self.state_size,\n",
        "                              data_format=\"channels_last\"))\n",
        "        model.add(Conv2D(64,\n",
        "                              4,\n",
        "                              strides=(2, 2),\n",
        "                              padding=\"valid\",\n",
        "                              activation=\"relu\",\n",
        "                              input_shape=self.state_size,\n",
        "                              data_format=\"channels_last\"))\n",
        "        model.add(Conv2D(64,\n",
        "                              3,\n",
        "                              strides=(1, 1),\n",
        "                              padding=\"valid\",\n",
        "                              activation=\"relu\",\n",
        "                              input_shape=self.state_size,\n",
        "                              data_format=\"channels_last\"))\n",
        "        model.add(Flatten())\n",
        "        model.add(Dense(512, activation=\"relu\"))\n",
        "        model.add(Dense(self.action_size))\n",
        "        model.compile(loss=\"mean_squared_error\",\n",
        "                           optimizer=RMSprop(learning_rate=0.00025,\n",
        "                                             rho=0.95,\n",
        "                                             epsilon=0.01),\n",
        "                           metrics=[\"accuracy\"])\n",
        "        print(model.summary())\n",
        "        return model\n",
        "\n",
        "    def update(self, game, old_state, action_taken, reward_action_taken, new_state, new_action, reached_end):\n",
        "        self.update_iteration += 1\n",
        "        if reached_end or self.update_iteration >= 999:  # entrenamos este epoch\n",
        "            self.remember(old_state, action_taken, reward_action_taken,\n",
        "                          new_state, reached_end)\n",
        "            self.aprendizaje(min(100, len(self.memory)))\n",
        "            self.update_iteration = 0\n",
        "\n",
        "        else:\n",
        "            # guardamos entrenamiento\n",
        "            self.remember(old_state, action_taken, reward_action_taken,\n",
        "                          new_state, reached_end)\n",
        "\n",
        "    def remember(self, state, action, reward, next_state, done):\n",
        "        self.memory.append(\n",
        "            (self.prepare_state(state), self.prepare_action(action), reward, self.prepare_state(next_state), done))\n",
        "        if len(self.memory) > self.max_memory:\n",
        "            del self.memory[0]  # se quita el primero\n",
        "\n",
        "    def get_next_step(self, state, game):\n",
        "        next_step = np.random.choice(list(game.action_space))\n",
        "        if np.random.uniform() <= self.ratio_explotacion:\n",
        "            q = self.model.predict(self.prepare_state(state))\n",
        "            idx_action = np.argmax(q[0])\n",
        "            next_step = list(game.action_space)[idx_action]\n",
        "        return next_step\n",
        "\n",
        "    def aprendizaje(self, batch_size):\n",
        "        minibatch = random.sample(self.memory, batch_size)\n",
        "        minibatch.append(self.memory[-1])  # final estate\n",
        "        for state, action, reward, next_state, done in minibatch:\n",
        "            actual_q_value_options = self.model.predict(state)\n",
        "            actual_q_value = actual_q_value_options[0][action]\n",
        "\n",
        "            future_max_q_value = reward\n",
        "            if not done:\n",
        "                future_max_q_value = reward + self.discount_factor * np.amax(self.model.predict(next_state)[0])\n",
        "\n",
        "            actual_q_value_options[0][action] = actual_q_value + self.learning_rate * (\n",
        "                    future_max_q_value - actual_q_value)\n",
        "            self.model.fit(state, actual_q_value_options, epochs=1, verbose=0)\n",
        "\n",
        "        # change exploration rate\n",
        "        if 1 - self.ratio_explotacion > self.explotacion_min:\n",
        "            ratio_exploracion = 1 - self.ratio_explotacion\n",
        "            ratio_exploracion *= self.explotacion_decay\n",
        "            self.ratio_explotacion = 1 - ratio_exploracion\n",
        "\n",
        "    def prepare_state(self, state):\n",
        "        return np.expand_dims(np.asarray(state).astype(np.float64), axis=0)\n",
        "\n",
        "    def prepare_action(self, action_taken):\n",
        "        return (list(self.game.action_space).index(action_taken))\n",
        "\n",
        "    def print_policy(self):\n",
        "        array_1d = np.zeros(self.grid_size)\n",
        "        tabs = 0\n",
        "        for i in range(0, self.grid_size):\n",
        "            array_1d[i] = 1\n",
        "            sep = ' '\n",
        "            if not ((i + 1) % self.game.positions_space[1]):\n",
        "                # tabs += 1\n",
        "                sep = '\\n'\n",
        "            print(self.model.predict(array_1d.reshape((1, -1))), end=sep)\n",
        "            array_1d[i] = 0\n"
      ],
      "metadata": {
        "id": "ce9njIaaxZLQ"
      },
      "execution_count": 8,
      "outputs": []
    },
    {
      "cell_type": "code",
      "source": [
        "!rm -rf video\n",
        "learner=NNLearner(Breakout())\n",
        "max_points = -9999\n",
        "first_max_reached = 0\n",
        "total_rw = 0\n",
        "RENDER=True\n",
        "\n",
        "for played_games in range(0, 10):  # 100\n",
        "    game = Breakout()#generamos de nuevo para poder generar un video cada vez\n",
        "    learner.game = game\n",
        "    # game._pygame.close()\n",
        "    # game = Breakout()    \n",
        "    state = game.reset()\n",
        "    reward, info, done = None, None, None\n",
        "    iteration = 0\n",
        "    while not done and iteration < 10000:  # 10000\n",
        "        if iteration%50==0:\n",
        "          print(f\"reward:{game.total_reward}\",sep=\"\")\n",
        "        print(\".\",sep=\"\",end=\"\")\n",
        "        old_state = np.array(state)\n",
        "        next_action = learner.get_next_step(state, game)\n",
        "        state, reward, done, info = game.step(next_action)\n",
        "        # For sarsa\n",
        "        next_post_action = learner.get_next_step(state, game)\n",
        "        learner.update(game, old_state, next_action, reward, state, next_post_action, done)\n",
        "        if RENDER:\n",
        "            game.render()\n",
        "        iteration += 1\n",
        "\n",
        "    total_rw += game.total_reward\n",
        "    if game.total_reward > max_points:\n",
        "        max_points = game.total_reward\n",
        "        first_max_reached = played_games\n",
        "    print(\"\\n******** played_games[\", played_games, \"] Points[\", game.total_reward, \"]  Steps[\", iteration,\n",
        "          \"] MaxPoint[\",\n",
        "          max_points, \"]\")\n",
        "    game.video_recorder.close()"
      ],
      "metadata": {
        "colab": {
          "base_uri": "https://localhost:8080/"
        },
        "id": "rlAI9tvArTBG",
        "outputId": "c684f6cf-a491-49c6-bfd8-92fe880fd68e"
      },
      "execution_count": null,
      "outputs": [
        {
          "output_type": "stream",
          "name": "stdout",
          "text": [
            "/content ./video/fe4a637a-dc3b-11ec-85b2-0242ac1c0002.mp4\n",
            "Model: \"sequential_2\"\n",
            "_________________________________________________________________\n",
            " Layer (type)                Output Shape              Param #   \n",
            "=================================================================\n",
            " conv2d_6 (Conv2D)           (None, 83, 20, 32)        2080      \n",
            "                                                                 \n",
            " conv2d_7 (Conv2D)           (None, 40, 9, 64)         32832     \n",
            "                                                                 \n",
            " conv2d_8 (Conv2D)           (None, 38, 7, 64)         36928     \n",
            "                                                                 \n",
            " flatten_2 (Flatten)         (None, 17024)             0         \n",
            "                                                                 \n",
            " dense_4 (Dense)             (None, 512)               8716800   \n",
            "                                                                 \n",
            " dense_5 (Dense)             (None, 4)                 2052      \n",
            "                                                                 \n",
            "=================================================================\n",
            "Total params: 8,790,692\n",
            "Trainable params: 8,790,692\n",
            "Non-trainable params: 0\n",
            "_________________________________________________________________\n",
            "None\n",
            "/content ./video/fe857dc0-dc3b-11ec-85b2-0242ac1c0002.mp4\n",
            "reward:0\n",
            "."
          ]
        },
        {
          "output_type": "stream",
          "name": "stderr",
          "text": [
            "/usr/local/lib/python3.7/dist-packages/gym/wrappers/monitoring/video_recorder.py:422: DeprecationWarning: distutils Version classes are deprecated. Use packaging.version instead.\n",
            "  np.__version__\n"
          ]
        },
        {
          "output_type": "stream",
          "name": "stdout",
          "text": [
            ".................................................reward:0.0\n",
            "..................................................reward:1.0\n",
            "..................................................reward:2.0\n",
            "............."
          ]
        }
      ]
    },
    {
      "cell_type": "code",
      "source": [
        "game.video_recorder.close()\n",
        "game._pygame.close()"
      ],
      "metadata": {
        "id": "8p0zms5iDkqW"
      },
      "execution_count": null,
      "outputs": []
    },
    {
      "cell_type": "code",
      "source": [
        "show_video()"
      ],
      "metadata": {
        "id": "wrSCqJ9orS8L"
      },
      "execution_count": null,
      "outputs": []
    },
    {
      "cell_type": "code",
      "source": [
        ""
      ],
      "metadata": {
        "id": "Ja-JnqosoXra"
      },
      "execution_count": 11,
      "outputs": []
    }
  ]
}