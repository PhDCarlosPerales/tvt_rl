{
  "nbformat": 4,
  "nbformat_minor": 0,
  "metadata": {
    "colab": {
      "name": "Copia de RL_Gym.ipynb",
      "provenance": [],
      "collapsed_sections": [],
      "toc_visible": true
    },
    "kernelspec": {
      "name": "python3",
      "display_name": "Python 3"
    },
    "language_info": {
      "name": "python"
    },
    "accelerator": "GPU"
  },
  "cells": [
    {
      "cell_type": "markdown",
      "source": [
        "# 1. Renderizar OpenAI Gym en Colab\n"
      ],
      "metadata": {
        "id": "jiMDooAqpTOI"
      }
    },
    {
      "cell_type": "code",
      "execution_count": 1,
      "metadata": {
        "id": "XEPmV_erpEMQ",
        "outputId": "0c401dba-f4b3-4c0e-cc26-394a1ebeda57",
        "colab": {
          "base_uri": "https://localhost:8080/"
        }
      },
      "outputs": [
        {
          "output_type": "stream",
          "name": "stdout",
          "text": [
            "Requirement already satisfied: gym in /usr/local/lib/python3.7/dist-packages (0.21.0)\n",
            "Requirement already satisfied: pyvirtualdisplay in /usr/local/lib/python3.7/dist-packages (2.2)\n",
            "Requirement already satisfied: cloudpickle>=1.2.0 in /usr/local/lib/python3.7/dist-packages (from gym) (1.3.0)\n",
            "Requirement already satisfied: numpy>=1.18.0 in /usr/local/lib/python3.7/dist-packages (from gym) (1.19.5)\n",
            "Requirement already satisfied: importlib-metadata>=4.8.1 in /usr/local/lib/python3.7/dist-packages (from gym) (4.10.0)\n",
            "Requirement already satisfied: typing-extensions>=3.6.4 in /usr/local/lib/python3.7/dist-packages (from importlib-metadata>=4.8.1->gym) (3.10.0.2)\n",
            "Requirement already satisfied: zipp>=0.5 in /usr/local/lib/python3.7/dist-packages (from importlib-metadata>=4.8.1->gym) (3.7.0)\n",
            "Requirement already satisfied: EasyProcess in /usr/local/lib/python3.7/dist-packages (from pyvirtualdisplay) (1.1)\n",
            "Reading package lists... Done\n",
            "Building dependency tree       \n",
            "Reading state information... Done\n",
            "python-opengl is already the newest version (3.1.0+dfsg-1).\n",
            "ffmpeg is already the newest version (7:3.4.8-0ubuntu0.2).\n",
            "xvfb is already the newest version (2:1.19.6-1ubuntu4.10).\n",
            "0 upgraded, 0 newly installed, 0 to remove and 58 not upgraded.\n",
            "Hit:1 https://cloud.r-project.org/bin/linux/ubuntu bionic-cran40/ InRelease\n",
            "Ign:2 https://developer.download.nvidia.com/compute/cuda/repos/ubuntu1804/x86_64  InRelease\n",
            "Ign:3 https://developer.download.nvidia.com/compute/machine-learning/repos/ubuntu1804/x86_64  InRelease\n",
            "Hit:4 https://developer.download.nvidia.com/compute/cuda/repos/ubuntu1804/x86_64  Release\n",
            "Hit:5 https://developer.download.nvidia.com/compute/machine-learning/repos/ubuntu1804/x86_64  Release\n",
            "Hit:6 http://archive.ubuntu.com/ubuntu bionic InRelease\n",
            "Hit:7 http://security.ubuntu.com/ubuntu bionic-security InRelease\n",
            "Hit:8 http://ppa.launchpad.net/c2d4u.team/c2d4u4.0+/ubuntu bionic InRelease\n",
            "Hit:10 http://archive.ubuntu.com/ubuntu bionic-updates InRelease\n",
            "Hit:12 http://archive.ubuntu.com/ubuntu bionic-backports InRelease\n",
            "Hit:13 http://ppa.launchpad.net/cran/libgit2/ubuntu bionic InRelease\n",
            "Hit:14 http://ppa.launchpad.net/deadsnakes/ppa/ubuntu bionic InRelease\n",
            "Hit:15 http://ppa.launchpad.net/graphics-drivers/ppa/ubuntu bionic InRelease\n",
            "Reading package lists... Done\n",
            "Reading package lists... Done\n",
            "Building dependency tree       \n",
            "Reading state information... Done\n",
            "cmake is already the newest version (3.10.2-1ubuntu2.18.04.2).\n",
            "0 upgraded, 0 newly installed, 0 to remove and 58 not upgraded.\n",
            "Requirement already satisfied: setuptools in /usr/local/lib/python3.7/dist-packages (60.5.0)\n",
            "Requirement already satisfied: ez_setup in /usr/local/lib/python3.7/dist-packages (0.9)\n",
            "Requirement already satisfied: gym[accept-rom-license,atari] in /usr/local/lib/python3.7/dist-packages (0.21.0)\n",
            "Requirement already satisfied: cloudpickle>=1.2.0 in /usr/local/lib/python3.7/dist-packages (from gym[accept-rom-license,atari]) (1.3.0)\n",
            "Requirement already satisfied: numpy>=1.18.0 in /usr/local/lib/python3.7/dist-packages (from gym[accept-rom-license,atari]) (1.19.5)\n",
            "Requirement already satisfied: importlib-metadata>=4.8.1 in /usr/local/lib/python3.7/dist-packages (from gym[accept-rom-license,atari]) (4.10.0)\n",
            "Requirement already satisfied: ale-py~=0.7.1 in /usr/local/lib/python3.7/dist-packages (from gym[accept-rom-license,atari]) (0.7.3)\n",
            "Requirement already satisfied: autorom[accept-rom-license]~=0.4.2 in /usr/local/lib/python3.7/dist-packages (from gym[accept-rom-license,atari]) (0.4.2)\n",
            "Requirement already satisfied: importlib-resources in /usr/local/lib/python3.7/dist-packages (from ale-py~=0.7.1->gym[accept-rom-license,atari]) (5.4.0)\n",
            "Requirement already satisfied: requests in /usr/local/lib/python3.7/dist-packages (from autorom[accept-rom-license]~=0.4.2->gym[accept-rom-license,atari]) (2.23.0)\n",
            "Requirement already satisfied: tqdm in /usr/local/lib/python3.7/dist-packages (from autorom[accept-rom-license]~=0.4.2->gym[accept-rom-license,atari]) (4.62.3)\n",
            "Requirement already satisfied: click in /usr/local/lib/python3.7/dist-packages (from autorom[accept-rom-license]~=0.4.2->gym[accept-rom-license,atari]) (7.1.2)\n",
            "Requirement already satisfied: AutoROM.accept-rom-license in /usr/local/lib/python3.7/dist-packages (from autorom[accept-rom-license]~=0.4.2->gym[accept-rom-license,atari]) (0.4.2)\n",
            "Requirement already satisfied: typing-extensions>=3.6.4 in /usr/local/lib/python3.7/dist-packages (from importlib-metadata>=4.8.1->gym[accept-rom-license,atari]) (3.10.0.2)\n",
            "Requirement already satisfied: zipp>=0.5 in /usr/local/lib/python3.7/dist-packages (from importlib-metadata>=4.8.1->gym[accept-rom-license,atari]) (3.7.0)\n",
            "Requirement already satisfied: idna<3,>=2.5 in /usr/local/lib/python3.7/dist-packages (from requests->autorom[accept-rom-license]~=0.4.2->gym[accept-rom-license,atari]) (2.10)\n",
            "Requirement already satisfied: certifi>=2017.4.17 in /usr/local/lib/python3.7/dist-packages (from requests->autorom[accept-rom-license]~=0.4.2->gym[accept-rom-license,atari]) (2021.10.8)\n",
            "Requirement already satisfied: urllib3!=1.25.0,!=1.25.1,<1.26,>=1.21.1 in /usr/local/lib/python3.7/dist-packages (from requests->autorom[accept-rom-license]~=0.4.2->gym[accept-rom-license,atari]) (1.24.3)\n",
            "Requirement already satisfied: chardet<4,>=3.0.2 in /usr/local/lib/python3.7/dist-packages (from requests->autorom[accept-rom-license]~=0.4.2->gym[accept-rom-license,atari]) (3.0.4)\n"
          ]
        }
      ],
      "source": [
        "install=True\n",
        "if install:\n",
        "  !pip install gym pyvirtualdisplay\n",
        "  !apt-get install -y xvfb python-opengl ffmpeg\n",
        "  !apt-get update\n",
        "  !apt-get install cmake\n",
        "  !pip install --upgrade setuptools\n",
        "  !pip install ez_setup\n",
        "  !pip install -U gym>=0.21.0\n",
        "  !pip install -U gym[atari,accept-rom-license]"
      ]
    },
    {
      "cell_type": "markdown",
      "source": [
        "# **¡¡¡¡¡REINICIAR ENTORNO!!!!**"
      ],
      "metadata": {
        "id": "pF4nyYANdlvA"
      }
    },
    {
      "cell_type": "markdown",
      "source": [
        "# 2. Primera partida"
      ],
      "metadata": {
        "id": "IBrUOZsumUdD"
      }
    },
    {
      "cell_type": "code",
      "source": [
        "# Funciones para mostrar\n",
        "import gym\n",
        "from gym.wrappers import Monitor\n",
        "import glob\n",
        "import io\n",
        "import base64\n",
        "from IPython.display import HTML\n",
        "from pyvirtualdisplay import Display\n",
        "from IPython import display as ipythondisplay\n",
        "\n",
        "display = Display(visible=0, size=(1400, 900))\n",
        "display.start()\n",
        "\n",
        "\"\"\"\n",
        "Utility functions to enable video recording of gym environment \n",
        "and displaying it.\n",
        "To enable video, just do \"env = wrap_env(env)\"\"\n",
        "\"\"\"\n",
        "import os\n",
        "import uuid\n",
        "\n",
        "def show_video():\n",
        "  mp4list = sorted(glob.glob('video/*/*.mp4'), key=os.path.getmtime)\n",
        "  for mp4 in mp4list:\n",
        "    # mp4 = mp4list[0]\n",
        "    video = io.open(mp4, 'r+b').read()\n",
        "    encoded = base64.b64encode(video)\n",
        "    ipythondisplay.display(HTML(data='''<video alt=\"test\" autoplay \n",
        "                loop controls style=\"height: 400px;\">\n",
        "                <source src=\"data:video/mp4;base64,{0}\" type=\"video/mp4\" />\n",
        "             </video>'''.format(encoded.decode('ascii'))))\n",
        "  else: \n",
        "    pass\n",
        "    \n",
        "\n",
        "def wrap_env(env):\n",
        "  id=f'./video/{uuid.uuid1()}'\n",
        "  print(id)\n",
        "  env = Monitor(env,id , force=False)\n",
        "  return env"
      ],
      "metadata": {
        "colab": {
          "base_uri": "https://localhost:8080/"
        },
        "id": "B5gjx285phgy",
        "outputId": "198c8cec-4a1a-4304-98d4-a2b686426080"
      },
      "execution_count": 2,
      "outputs": [
        {
          "output_type": "stream",
          "name": "stderr",
          "text": [
            "/usr/local/lib/python3.7/dist-packages/ale_py/roms/utils.py:90: DeprecationWarning: SelectableGroups dict interface is deprecated. Use select.\n",
            "  for external in metadata.entry_points().get(self.group, []):\n"
          ]
        }
      ]
    },
    {
      "cell_type": "markdown",
      "source": [
        "### Entorno"
      ],
      "metadata": {
        "id": "pzZYXqBTpr92"
      }
    },
    {
      "cell_type": "code",
      "source": [
        "import gym\n",
        "\n",
        "def query_environment(name):\n",
        "  env = gym.make(name)\n",
        "  spec = gym.spec(name)\n",
        "  print(f\"Action Space: {env.action_space}\")\n",
        "  print(f\"Observation Space: {env.observation_space.shape}\")\n",
        "  print(f\"Max Episode Steps: {spec.max_episode_steps}\")\n",
        "  print(f\"Nondeterministic: {spec.nondeterministic}\")\n",
        "  print(f\"Reward Range: {env.reward_range}\")\n",
        "  print(f\"Reward Threshold: {spec.reward_threshold}\")"
      ],
      "metadata": {
        "id": "KIwcTsGippn8"
      },
      "execution_count": 3,
      "outputs": []
    },
    {
      "cell_type": "code",
      "source": [
        "query_environment(\"BreakoutDeterministic-v4\")"
      ],
      "metadata": {
        "colab": {
          "base_uri": "https://localhost:8080/"
        },
        "id": "jffaAeAxp5fB",
        "outputId": "7ca54f8d-a3a4-434c-bd51-556832c7babe"
      },
      "execution_count": 4,
      "outputs": [
        {
          "output_type": "stream",
          "name": "stdout",
          "text": [
            "Action Space: Discrete(4)\n",
            "Observation Space: (210, 160, 3)\n",
            "Max Episode Steps: 100000\n",
            "Nondeterministic: False\n",
            "Reward Range: (-inf, inf)\n",
            "Reward Threshold: None\n"
          ]
        }
      ]
    },
    {
      "cell_type": "code",
      "source": [
        "!rm -rf video\n",
        "env = wrap_env(gym.make(\"BreakoutDeterministic-v4\",render_mode=\"rgb_array\"))\n",
        "\n",
        "observation = env.reset()\n",
        "\n",
        "while True:\n",
        "  \n",
        "    env.render()\n",
        "    \n",
        "    #your agent goes here\n",
        "    action = env.action_space.sample() \n",
        "         \n",
        "    observation, reward, done, info = env.step(action) \n",
        "   \n",
        "        \n",
        "    if done: \n",
        "      break;\n",
        "            \n",
        "env.close()\n",
        "show_video()"
      ],
      "metadata": {
        "colab": {
          "base_uri": "https://localhost:8080/",
          "height": 495
        },
        "id": "vnV1LGbIp979",
        "outputId": "4609040d-23c9-42d8-a2ab-514f2e17d2c2"
      },
      "execution_count": 5,
      "outputs": [
        {
          "output_type": "stream",
          "name": "stdout",
          "text": [
            "./video/606cadd8-7b7a-11ec-8ab7-0242ac1c0002\n"
          ]
        },
        {
          "output_type": "stream",
          "name": "stderr",
          "text": [
            "/usr/local/lib/python3.7/dist-packages/gym/envs/atari/environment.py:257: UserWarning: \u001b[33mWARN: We strongly suggest supplying `render_mode` when constructing your environment, e.g., gym.make(ID, render_mode='human'). Using `render_mode` provides access to proper scaling, audio support, and proper framerates.\u001b[0m\n",
            "  \"We strongly suggest supplying `render_mode` when \"\n"
          ]
        },
        {
          "output_type": "display_data",
          "data": {
            "text/html": [
              "<video alt=\"test\" autoplay \n",
              "                loop controls style=\"height: 400px;\">\n",
              "                <source src=\"data:video/mp4;base64,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\" type=\"video/mp4\" />\n",
              "             </video>"
            ],
            "text/plain": [
              "<IPython.core.display.HTML object>"
            ]
          },
          "metadata": {}
        }
      ]
    },
    {
      "cell_type": "markdown",
      "source": [
        "# 3. Preparando NN Atari Breakout"
      ],
      "metadata": {
        "id": "sRH0IrtmnuKv"
      }
    },
    {
      "cell_type": "code",
      "source": [
        "from abc import ABCMeta, abstractmethod\n",
        "\n",
        "\n",
        "class GameInterface(metaclass=ABCMeta):\n",
        "    @property\n",
        "    def action_space(self):\n",
        "        return NotImplementedError\n",
        "\n",
        "    @property\n",
        "    def state(self):\n",
        "        return NotImplementedError\n",
        "\n",
        "    @property\n",
        "    def total_reward(self):\n",
        "        return NotImplementedError\n",
        "\n",
        "    @property\n",
        "    def positions_space(self):\n",
        "        return NotImplementedError\n",
        "\n",
        "    @abstractmethod\n",
        "    def reset(self):\n",
        "        pass\n",
        "\n",
        "    @abstractmethod\n",
        "    def render(self):\n",
        "        pass\n",
        "\n",
        "    @abstractmethod\n",
        "    def step(self, action):\n",
        "        pass\n"
      ],
      "metadata": {
        "id": "h1twpJ_mp-Up"
      },
      "execution_count": 6,
      "outputs": []
    },
    {
      "cell_type": "code",
      "source": [
        "from collections import deque\n",
        "\n",
        "import cv2\n",
        "import gym\n",
        "import numpy as np\n",
        "from gym import spaces\n",
        "from tensorflow import keras\n",
        "\n",
        "# from .game_interface import GameInterface\n",
        "\n",
        "FRAMES_IN_OBSERVATION = 4\n",
        "FRAME_SIZE = 84\n",
        "# if keras.backend.image_data_format() == 'channels_first':\n",
        "#     # INPUT_SHAPE = (FRAMES_IN_OBSERVATION, FRAME_SIZE, FRAME_SIZE)\n",
        "#     INPUT_SHAPE = (1, FRAMES_IN_OBSERVATION * FRAME_SIZE, FRAME_SIZE)\n",
        "# else:\n",
        "#     INPUT_SHAPE = (FRAME_SIZE * FRAMES_IN_OBSERVATION, FRAME_SIZE, 1)\n",
        "\n",
        "\n",
        "class ProcessFrame84(gym.ObservationWrapper):\n",
        "    def __init__(self, env=None):\n",
        "        super(ProcessFrame84, self).__init__(env)\n",
        "        self.observation_space = spaces.Box(low=0, high=255, shape=(84, 84, 1))\n",
        "\n",
        "    def observation(self, obs):\n",
        "        return ProcessFrame84.process(obs)\n",
        "\n",
        "    @staticmethod\n",
        "    def process(frame):\n",
        "        if frame.size == 210 * 160 * 3:\n",
        "            img = np.reshape(frame, [210, 160, 3]).astype(np.float32)\n",
        "        elif frame.size == 250 * 160 * 3:\n",
        "            img = np.reshape(frame, [250, 160, 3]).astype(np.float32)\n",
        "        else:\n",
        "            assert False, \"Unknown resolution.\"\n",
        "        img = img[:, :, 0] * 0.299 + img[:, :, 1] * 0.587 + img[:, :, 2] * 0.114\n",
        "        resized_screen = cv2.resize(img, (84, 110), interpolation=cv2.INTER_AREA)\n",
        "        x_t = resized_screen[18:102, :]\n",
        "        x_t = np.reshape(x_t, [84, 84, 1])\n",
        "        return x_t.astype(np.uint8)\n",
        "\n",
        "\n",
        "class LazyFrames(object):\n",
        "    def __init__(self, frames):\n",
        "        \"\"\"This object ensures that common frames between the observations are only stored once.\n",
        "        It exists purely to optimize memory usage which can be huge for DQN's 1M frames replay\n",
        "        buffers.\n",
        "        This object should only be converted to numpy array before being passed to the model.\n",
        "        You'd not belive how complex the previous solution was.\"\"\"\n",
        "        self._frames = frames\n",
        "\n",
        "    def __array__(self, dtype=None):\n",
        "        out = np.concatenate(self._frames, axis=0)\n",
        "        if dtype is not None:\n",
        "            out = out.astype(dtype)\n",
        "        return out\n",
        "\n",
        "\n",
        "class FrameStack(gym.Wrapper):\n",
        "    def __init__(self, env, k):\n",
        "        \"\"\"Stack k last frames.\n",
        "        Returns lazy array, which is much more memory efficient.\n",
        "        See Also\n",
        "        --------\n",
        "        baselines.common.atari_wrappers.LazyFrames\n",
        "        \"\"\"\n",
        "        gym.Wrapper.__init__(self, env)\n",
        "        self.k = k\n",
        "        self.frames = deque([], maxlen=k)\n",
        "        shp = env.observation_space.shape\n",
        "        self.observation_space = spaces.Box(low=0, high=255, shape=(shp[0] * k, shp[1], shp[2]))\n",
        "\n",
        "    def reset(self):\n",
        "        ob = self.env.reset()\n",
        "        for _ in range(self.k):\n",
        "            self.frames.append(ob)\n",
        "        return self._get_ob()\n",
        "\n",
        "    def step(self, action):\n",
        "        ob, reward, done, info = self.env.step(action)\n",
        "        self.frames.append(ob)\n",
        "        return self._get_ob(), reward, done, info\n",
        "\n",
        "    def _get_ob(self):\n",
        "        assert len(self.frames) == self.k\n",
        "        return LazyFrames(list(self.frames))\n",
        "\n",
        "\n",
        "class MainGymWrapper:\n",
        "    @staticmethod\n",
        "    def wrap(env):\n",
        "        env = ProcessFrame84(env)\n",
        "        env = FrameStack(env, 4)\n",
        "        return env\n",
        "\n",
        "\n",
        "class Breakout():\n",
        "    def __init__(self):\n",
        "      pygame=wrap_env(MainGymWrapper.wrap(gym.make(\"BreakoutDeterministic-v4\", render_mode='rgb_array')))\n",
        "      self._pygame = pygame\n",
        "\n",
        "      self.action_space = {key: val for key, val in enumerate(range(pygame.action_space.n))}\n",
        "      self.state = None  # where is the ninja\n",
        "      self.total_reward = 0\n",
        "      self.positions_space = self._pygame.observation_space.shape  # inside reward\n",
        "\n",
        "    def reset(self):\n",
        "        self.total_reward = 0\n",
        "        self.state = self._pygame.reset()\n",
        "        return self.state\n",
        "\n",
        "    def render(self):\n",
        "        self._pygame.render()\n",
        "\n",
        "    def step(self, action):\n",
        "        next_state, reward, terminal, info = self._pygame.step(action)\n",
        "        self.state = next_state\n",
        "\n",
        "        self.total_reward += reward\n",
        "        return next_state, reward, terminal, info\n"
      ],
      "metadata": {
        "id": "b3qNzdLhqXGO"
      },
      "execution_count": 7,
      "outputs": []
    },
    {
      "cell_type": "markdown",
      "source": [
        "# 4. RL con Atari"
      ],
      "metadata": {
        "id": "Vz5I-5NcoDT-"
      }
    },
    {
      "cell_type": "code",
      "source": [
        "import random\n",
        "\n",
        "from tensorflow.keras import Sequential\n",
        "from tensorflow.keras.layers import Dense\n",
        "from tensorflow.keras.layers import Flatten, Conv2D\n",
        "from tensorflow.keras.optimizers import Adam\n",
        "import numpy as np\n",
        "from tensorflow.keras.optimizers import RMSprop\n",
        "\n",
        "\n",
        "class NNLearner():\n",
        "    def __init__(self, game):\n",
        "        self.state_size = game.positions_space\n",
        "\n",
        "        self.grid_size = np.prod(game.positions_space)\n",
        "        self.action_size = len(game.action_space)\n",
        "        self.memory = list()  # deque(maxlen=2000)\n",
        "        self.max_memory = 2000\n",
        "        self.learning_rate = 0.1  # discount rate\n",
        "        self.ratio_explotacion = 0.8  # 0.95# 0.8  # exploration rate\n",
        "        self.explotacion_min = 0.05\n",
        "        self.explotacion_decay = 0.995\n",
        "        self.model_learning_rate = 0.001\n",
        "        self.discount_factor = 0.1\n",
        "        self.model = self._crear_modelo()\n",
        "        self.game = game\n",
        "        self.update_iteration = 0\n",
        "\n",
        "    def _crear_modelo(self):\n",
        "        model = Sequential()\n",
        "        model.add(Conv2D(32,\n",
        "                              8,\n",
        "                              strides=(4, 4),\n",
        "                              padding=\"valid\",\n",
        "                              activation=\"relu\",\n",
        "                              input_shape=self.state_size,\n",
        "                              data_format=\"channels_last\"))\n",
        "        model.add(Conv2D(64,\n",
        "                              4,\n",
        "                              strides=(2, 2),\n",
        "                              padding=\"valid\",\n",
        "                              activation=\"relu\",\n",
        "                              input_shape=self.state_size,\n",
        "                              data_format=\"channels_last\"))\n",
        "        model.add(Conv2D(64,\n",
        "                              3,\n",
        "                              strides=(1, 1),\n",
        "                              padding=\"valid\",\n",
        "                              activation=\"relu\",\n",
        "                              input_shape=self.state_size,\n",
        "                              data_format=\"channels_last\"))\n",
        "        model.add(Flatten())\n",
        "        model.add(Dense(512, activation=\"relu\"))\n",
        "        model.add(Dense(self.action_size))\n",
        "        model.compile(loss=\"mean_squared_error\",\n",
        "                           optimizer=RMSprop(learning_rate=0.00025,\n",
        "                                             rho=0.95,\n",
        "                                             epsilon=0.01),\n",
        "                           metrics=[\"accuracy\"])\n",
        "        print(model.summary())\n",
        "        return model\n",
        "\n",
        "    def update(self, game, old_state, action_taken, reward_action_taken, new_state, new_action, reached_end):\n",
        "        self.update_iteration += 1\n",
        "        if reached_end or self.update_iteration >= 999:  # entrenamos este epoch\n",
        "            self.remember(old_state, action_taken, reward_action_taken,\n",
        "                          new_state, reached_end)\n",
        "            self.aprendizaje(min(100, len(self.memory)))\n",
        "            self.update_iteration = 0\n",
        "\n",
        "        else:\n",
        "            # guardamos entrenamiento\n",
        "            self.remember(old_state, action_taken, reward_action_taken,\n",
        "                          new_state, reached_end)\n",
        "\n",
        "    def remember(self, state, action, reward, next_state, done):\n",
        "        self.memory.append(\n",
        "            (self.prepare_state(state), self.prepare_action(action), reward, self.prepare_state(next_state), done))\n",
        "        if len(self.memory) > self.max_memory:\n",
        "            del self.memory[0]  # se quita el primero\n",
        "\n",
        "    def get_next_step(self, state, game):\n",
        "        next_step = np.random.choice(list(game.action_space))\n",
        "        if np.random.uniform() <= self.ratio_explotacion:\n",
        "            q = self.model.predict(self.prepare_state(state))\n",
        "            idx_action = np.argmax(q[0])\n",
        "            next_step = list(game.action_space)[idx_action]\n",
        "        return next_step\n",
        "\n",
        "    def aprendizaje(self, batch_size):\n",
        "        minibatch = random.sample(self.memory, batch_size)\n",
        "        minibatch.append(self.memory[-1])  # final estate\n",
        "        for state, action, reward, next_state, done in minibatch:\n",
        "            actual_q_value_options = self.model.predict(state)\n",
        "            actual_q_value = actual_q_value_options[0][action]\n",
        "\n",
        "            future_max_q_value = reward\n",
        "            if not done:\n",
        "                future_max_q_value = reward + self.discount_factor * np.amax(self.model.predict(next_state)[0])\n",
        "\n",
        "            actual_q_value_options[0][action] = actual_q_value + self.learning_rate * (\n",
        "                    future_max_q_value - actual_q_value)\n",
        "            self.model.fit(state, actual_q_value_options, epochs=1, verbose=0)\n",
        "\n",
        "        # change exploration rate\n",
        "        if 1 - self.ratio_explotacion > self.explotacion_min:\n",
        "            ratio_exploracion = 1 - self.ratio_explotacion\n",
        "            ratio_exploracion *= self.explotacion_decay\n",
        "            self.ratio_explotacion = 1 - ratio_exploracion\n",
        "\n",
        "    def prepare_state(self, state):\n",
        "        return np.expand_dims(np.asarray(state).astype(np.float64), axis=0)\n",
        "\n",
        "    def prepare_action(self, action_taken):\n",
        "        return (list(self.game.action_space).index(action_taken))\n",
        "\n",
        "    def print_policy(self):\n",
        "        array_1d = np.zeros(self.grid_size)\n",
        "        tabs = 0\n",
        "        for i in range(0, self.grid_size):\n",
        "            array_1d[i] = 1\n",
        "            sep = ' '\n",
        "            if not ((i + 1) % self.game.positions_space[1]):\n",
        "                # tabs += 1\n",
        "                sep = '\\n'\n",
        "            print(self.model.predict(array_1d.reshape((1, -1))), end=sep)\n",
        "            array_1d[i] = 0\n"
      ],
      "metadata": {
        "id": "ce9njIaaxZLQ"
      },
      "execution_count": 8,
      "outputs": []
    },
    {
      "cell_type": "code",
      "source": [
        "!rm -rf video\n",
        "learner=NNLearner(Breakout())\n",
        "max_points = -9999\n",
        "first_max_reached = 0\n",
        "total_rw = 0\n",
        "RENDER=True\n",
        "\n",
        "for played_games in range(0, 3):  # 100\n",
        "    game = Breakout()#generamos de nuevo para poder generar un video cada vez\n",
        "    learner.game = game\n",
        "    # game._pygame.close()\n",
        "    # game = Breakout()    \n",
        "    state = game.reset()\n",
        "    reward, info, done = None, None, None\n",
        "    iteration = 0\n",
        "    while not done and iteration < 10000:  # 10000\n",
        "        if iteration%50==0:\n",
        "          print(f\"reward:{game.total_reward}\",sep=\"\")\n",
        "        print(\".\",sep=\"\",end=\"\")\n",
        "        old_state = np.array(state)\n",
        "        next_action = learner.get_next_step(state, game)\n",
        "        state, reward, done, info = game.step(next_action)\n",
        "        # For sarsa\n",
        "        next_post_action = learner.get_next_step(state, game)\n",
        "        learner.update(game, old_state, next_action, reward, state, next_post_action, done)\n",
        "        if RENDER:\n",
        "            game.render()\n",
        "        iteration += 1\n",
        "\n",
        "    total_rw += game.total_reward\n",
        "    if game.total_reward > max_points:\n",
        "        max_points = game.total_reward\n",
        "        first_max_reached = played_games\n",
        "    print(\"\\n******** played_games[\", played_games, \"] Points[\", game.total_reward, \"]  Steps[\", iteration,\n",
        "          \"] MaxPoint[\",\n",
        "          max_points, \"]\")"
      ],
      "metadata": {
        "colab": {
          "base_uri": "https://localhost:8080/"
        },
        "id": "rlAI9tvArTBG",
        "outputId": "3443d7bb-6812-440d-a8fb-58d8bf513a43"
      },
      "execution_count": 9,
      "outputs": [
        {
          "output_type": "stream",
          "name": "stdout",
          "text": [
            "./video/629d83e8-7b7a-11ec-8ab7-0242ac1c0002\n",
            "Model: \"sequential\"\n",
            "_________________________________________________________________\n",
            " Layer (type)                Output Shape              Param #   \n",
            "=================================================================\n",
            " conv2d (Conv2D)             (None, 83, 20, 32)        2080      \n",
            "                                                                 \n",
            " conv2d_1 (Conv2D)           (None, 40, 9, 64)         32832     \n",
            "                                                                 \n",
            " conv2d_2 (Conv2D)           (None, 38, 7, 64)         36928     \n",
            "                                                                 \n",
            " flatten (Flatten)           (None, 17024)             0         \n",
            "                                                                 \n",
            " dense (Dense)               (None, 512)               8716800   \n",
            "                                                                 \n",
            " dense_1 (Dense)             (None, 4)                 2052      \n",
            "                                                                 \n",
            "=================================================================\n",
            "Total params: 8,790,692\n",
            "Trainable params: 8,790,692\n",
            "Non-trainable params: 0\n",
            "_________________________________________________________________\n",
            "None\n",
            "./video/63409038-7b7a-11ec-8ab7-0242ac1c0002\n",
            "reward:0\n",
            ".."
          ]
        },
        {
          "output_type": "stream",
          "name": "stderr",
          "text": [
            "/usr/local/lib/python3.7/dist-packages/gym/envs/atari/environment.py:257: UserWarning: \u001b[33mWARN: We strongly suggest supplying `render_mode` when constructing your environment, e.g., gym.make(ID, render_mode='human'). Using `render_mode` provides access to proper scaling, audio support, and proper framerates.\u001b[0m\n",
            "  \"We strongly suggest supplying `render_mode` when \"\n"
          ]
        },
        {
          "output_type": "stream",
          "name": "stdout",
          "text": [
            "................................................reward:0.0\n",
            "..................................................reward:1.0\n",
            "..................................................reward:1.0\n",
            "..................................................reward:2.0\n",
            "..................................................reward:3.0\n",
            "..................................................reward:7.0\n",
            "..................................................reward:11.0\n",
            "........\n",
            "******** played_games[ 0 ] Points[ 11.0 ]  Steps[ 358 ] MaxPoint[ 11.0 ]\n",
            "./video/7ae7bd38-7b7a-11ec-8ab7-0242ac1c0002\n",
            "reward:0\n",
            "."
          ]
        },
        {
          "output_type": "stream",
          "name": "stderr",
          "text": [
            "/usr/local/lib/python3.7/dist-packages/gym/envs/atari/environment.py:257: UserWarning: \u001b[33mWARN: We strongly suggest supplying `render_mode` when constructing your environment, e.g., gym.make(ID, render_mode='human'). Using `render_mode` provides access to proper scaling, audio support, and proper framerates.\u001b[0m\n",
            "  \"We strongly suggest supplying `render_mode` when \"\n"
          ]
        },
        {
          "output_type": "stream",
          "name": "stdout",
          "text": [
            ".................................................reward:0.0\n",
            "..................................................reward:0.0\n",
            ".......................\n",
            "******** played_games[ 1 ] Points[ 0.0 ]  Steps[ 123 ] MaxPoint[ 11.0 ]\n",
            "./video/879f6c56-7b7a-11ec-8ab7-0242ac1c0002\n",
            "reward:0\n",
            "."
          ]
        },
        {
          "output_type": "stream",
          "name": "stderr",
          "text": [
            "/usr/local/lib/python3.7/dist-packages/gym/envs/atari/environment.py:257: UserWarning: \u001b[33mWARN: We strongly suggest supplying `render_mode` when constructing your environment, e.g., gym.make(ID, render_mode='human'). Using `render_mode` provides access to proper scaling, audio support, and proper framerates.\u001b[0m\n",
            "  \"We strongly suggest supplying `render_mode` when \"\n"
          ]
        },
        {
          "output_type": "stream",
          "name": "stdout",
          "text": [
            ".................................................reward:0.0\n",
            "..................................................reward:0.0\n",
            "..................................................reward:0.0\n",
            "..................................................reward:0.0\n",
            "............\n",
            "******** played_games[ 2 ] Points[ 0.0 ]  Steps[ 212 ] MaxPoint[ 11.0 ]\n"
          ]
        }
      ]
    },
    {
      "cell_type": "code",
      "source": [
        "game._pygame.close()"
      ],
      "metadata": {
        "id": "8p0zms5iDkqW"
      },
      "execution_count": 10,
      "outputs": []
    },
    {
      "cell_type": "code",
      "source": [
        "show_video()"
      ],
      "metadata": {
        "colab": {
          "base_uri": "https://localhost:8080/",
          "height": 1000
        },
        "id": "wrSCqJ9orS8L",
        "outputId": "46fe9bf8-a8da-483b-aac9-430a328337d3"
      },
      "execution_count": 11,
      "outputs": [
        {
          "output_type": "display_data",
          "data": {
            "text/html": [
              "<video alt=\"test\" autoplay \n",
              "                loop controls style=\"height: 400px;\">\n",
              "                <source src=\"data:video/mp4;base64,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\" type=\"video/mp4\" />\n",
              "             </video>"
            ],
            "text/plain": [
              "<IPython.core.display.HTML object>"
            ]
          },
          "metadata": {}
        },
        {
          "output_type": "display_data",
          "data": {
            "text/html": [
              "<video alt=\"test\" autoplay \n",
              "                loop controls style=\"height: 400px;\">\n",
              "                <source src=\"data:video/mp4;base64,AAAAIGZ0eXBpc29tAAACAGlzb21pc28yYXZjMW1wNDEAAAAIZnJlZQAAGCRtZGF0AAACrgYF//+q3EXpvebZSLeWLNgg2SPu73gyNjQgLSBjb3JlIDE1MiByMjg1NCBlOWE1OTAzIC0gSC4yNjQvTVBFRy00IEFWQyBjb2RlYyAtIENvcHlsZWZ0IDIwMDMtMjAxNyAtIGh0dHA6Ly93d3cudmlkZW9sYW4ub3JnL3gyNjQuaHRtbCAtIG9wdGlvbnM6IGNhYmFjPTEgcmVmPTMgZGVibG9jaz0xOjA6MCBhbmFseXNlPTB4MzoweDExMyBtZT1oZXggc3VibWU9NyBwc3k9MSBwc3lfcmQ9MS4wMDowLjAwIG1peGVkX3JlZj0xIG1lX3JhbmdlPTE2IGNocm9tYV9tZT0xIHRyZWxsaXM9MSA4eDhkY3Q9MSBjcW09MCBkZWFkem9uZT0yMSwxMSBmYXN0X3Bza2lwPTEgY2hyb21hX3FwX29mZnNldD0tMiB0aHJlYWRzPTMgbG9va2FoZWFkX3RocmVhZHM9MSBzbGljZWRfdGhyZWFkcz0wIG5yPTAgZGVjaW1hdGU9MSBpbnRlcmxhY2VkPTAgYmx1cmF5X2NvbXBhdD0wIGNvbnN0cmFpbmVkX2ludHJhPTAgYmZyYW1lcz0zIGJfcHlyYW1pZD0yIGJfYWRhcHQ9MSBiX2JpYXM9MCBkaXJlY3Q9MSB3ZWlnaHRiPTEgb3Blbl9nb3A9MCB3ZWlnaHRwPTIga2V5aW50PTI1MCBrZXlpbnRfbWluPTI1IHNjZW5lY3V0PTQwIGludHJhX3JlZnJlc2g9MCByY19sb29rYWhlYWQ9NDAgcmM9Y3JmIG1idHJlZT0xIGNyZj0yMy4wIHFjb21wPTAuNjAgcXBtaW49MCBxcG1heD02OSBxcHN0ZXA9NCBpcF9yYXRpbz0xLjQwIGFxPTE6MS4wMACAAAACMGWIhAA3//728P4FNlYEUGa7Q91nCgDAQZ/NTMClgclA4pYaytdZh+dVJuV432kRnWAs5rNIwVgDq82rBm7oYytwVrbMx0s0deIjDqA1k01uG4ANrMfO1grOJwZga71GmymuARhsR4WZ3pZaGRcKmQ1AKWNgP+g0jF9vZyFT5gpot86JTbMFc0ZcdazcAe48r5fEfvVute9rB6tUebo7LSDmgk0Yk5SccnTIC7OKXa0z9mVrKEExQtVw/h9gGhuwMIFSbYTBIps6sOwginkaQahoy3YpigJeHW1QeapzVRURgWt3Cb/fABnsQJUbQBnzSOFXARJncJs9Egfvxb8tPmLx1saqciKlnYZZ3TBjw5BDKy2pLMIQlUrsVKYTYX9hV+lrvVOAfbYkUg1VgiZyygVNBBkK0cr2V9Z9KA4o9WtvG9L3J2bT1I7ByLycHnVVT6CxO8EXVlpG+CGjAAHXgWgnJa5SvEPAl+X3OxVbIlNDcTwrogczuBZURzjl5Y4FDxTjV0dwV2d7ypzJRmB2SlSaTzHV93CmrngQQHgA909URLDZu+Usf/lZ2mvdJvEtS9qFzPE7A0QnQlfFlqhJPQvKWbQm97TGUseeLS5DON0pwPnf/vt46MHx2GP1e+u5urjM5xJRyT5gAdKlgL+/XjCe6CmdEpafHDZiZ9OYERQkMeJPV11/ldPIRXsWXGOsKEd692uNw/w66pFRbzhJmYn7KzXObIBANQpKPyF/S8PhAAAAcUGaI2xDf/6nhAMXU3SAWm6Heet150NvaiNsGfQST5TYE6TrkGEFX5O+3WEQrvdPfgNUuC5EMfCkFFYdXSJmMGliF3CLqEIlHM+cIizZ7DSuLvOmO0enc8tgERtyTcmqEt/7W8bO4/QAAE0/5ZmdjtqAAAAANkGeQXiFfwGxOs2+rDOPEAQQ4tnvnJ+nxJcWSK6CCt//I9fzsRNBUNlhER3NJ5Ah7KO1rkP9iQAAABYBnmJqQn8BLYjGE5xpIQ9dFnnc6jKmAAAAREGaZ0moQWiZTAhv//6nhALt2FfchsXOqO6n9U87tnhl6/wm+p+zUcwAJ1rWa9J1mLq+hWjSw9DwftD8cNCeZDmfTrSxAAAAO0GehUURLCv/Aacf7rYnRYO8nrbP0ANeWtnvnJ+nxJcWSK6CCt/+wjloiaEJIiP/KyQbYAQAJ59XnwiBAAAAHQGepHRCfwIY0neM/Z1B6JK+6TieMdhIlKSwOkNhAAAAFQGepmpCfwDtg0qbAoh66baM8jOlCwAAADtBmqtJqEFsmUwIb//+p4QAsIhmL53OHT0ST/OyAE61rNek6zF1fQrRpYeh4P2h+OGhPMhzPph1bvgVdAAAADJBnslFFSwr/wCTPkAAQo4tnvnJ+nxJcWSK6CCt//SvCB7ZE0H8ucoXKyQbYAQFI70/UQAAABQBnuh0Qn8AvzuhGat3gPQZk6oKVwAAABEBnupqQn8AvwmSO2zZ5dNdywAAADtBmu9JqEFsmUwIb//+p4QAiq2mThUHM17p78RwgBOtazXpOsxdX0K0aWHoeD9ofjhoTzIcz6YdW74FzQAAADJBnw1FFSwr/wB0USwAIUcWz3zk/T4kuLJFdBBW//pXhA9siaD+XOULlZINsAICkd6f3wAAABUBnyx0Qn8Alu7unUwjRRKFcrUFU4EAAAARAZ8uakJ/AJbEYjts2eXTXhsAAAAZQZszSahBbJlMCG///qeEAG5wMxlG+3hERgAAACdBn1FFFSwr/wBdfEgAAcs1V6QXxUHtZxme5tZuX1LM3+g6BvtD3UAAAAAcAZ9wdEJ/AHbsfmAA2LCXqM+NaQJveBrHOhBtVQAAABkBn3JqQn8AdstXHobnEQAV/oWNKDfXt6TAAAAAEkGbd0moQWyZTAhv//6nhAA1IAAAAAtBn5VFFSwr/wArYQAAAAkBn7R0Qn8AN6AAAAAJAZ+2akJ/ADehAAAAQ0Gbu0moQWyZTAhv//6SsVAAOhC//wg9UCTOi8tjgCYm5smLNAu/BtHYwAtPGlgPdtzQCvZuycUg7FWxZ2+5+bJAxD8AAAAgQZ/ZRRUsK/85Ve+uk2FgBuWS+8vHAGFcH7FWTTp3R4AAAAAOAZ/4dEJ/QBnh9DxXO/0AAAAbAZ/6akJ/ASWK5E/MgBFNR9NDZilM0BZpA1+EAAAAJ0Gb/0moQWyZTAhn//6eEANL7HjudOe8AJpT/7H8cAuU10Rkb00vwQAAAB9Bnh1FFSwr/wCxNLFMQAcVKvoobMGRHN5i+gUC4tohAAAAHAGePHRCfwDicVuADgQT3544GPlSqoH5VXn8rKgAAAAbAZ4+akJ/AN0KxX77QBDtR9NDZilM0BZpA2EkAAAAMUGaIEmoQWyZTAhn//6eEAJ6qbDgAnEdfY/jgZtQGYj291DckiyhVcITrfShyYVtOoEAAAA6QZpCSeEKUmUwUVLDP/6eEAJ98WNhG0EDAB+A/9j+OBmvrNEe3uh80ld/+sV4N27vhGL8jNZVUP1jgAAAACIBnmFqQn8ArLLwIEAIvu33544AwrdGxSKEVDOwWtOA/7FtAAAALEGaY0nhDomUwIb//qeEAHlUelwAbR1H3A44Br9xX5skDwksSFInfmhs5YzQAAAAMkGahknhDyZTAhv//qeEAHn+AtCLs9YAK17WFfgas2CwO03k9wOOBsM81/HfIW+PrUerAAAAKUGepEURPCv/AH8jeUNMAC0Ar6KGzFKtbB8it2ONIvAZuoelZNFe9I9VAAAAJAGexWpCfwCoXBGrQIgBF92+/PHAGFbo2KRQno9EzQo76gM0QQAAACxBmshJqEFomUwU8N/+p4QAZwCcIx5xA+PgA2PpfDHHAzFR+b1CtvFZUp3NwQAAACMBnudqQn8AfG+LO8Sm9AenN4gBF92+/PHAGCu6rVzdAAMFEwAAABxBmuxJ4QpSZTAhn/6eEAGRpQ31NH8HdifgU4MYAAAAHEGfCkU0TCv/AH8jfa4Z2EF2MCB25JKy5j+EzukAAAAgAZ8pdEJ/AKgjZEf+d9UpGZNACE0k6fPHFEx4el7OFeoAAAAUAZ8rakJ/AKhcNWn/I/svk+Asf9gAAABqQZstSahBaJlMCG///qeEAGd9lNU+CzOpAfB2P/7/A6Eh3BHDsaJZ0h2fSHXiPeHMT/2aFeYJJIE9ywLeruUZB2vkKqs9DJbJsl6oofcDddLB63EQRQeGQL0odcm5r4jpnOuyxSPMSBZLqQAAAFFBm1FJ4QpSZTAhn/6B+W+K0AWrh//4d30CVVo9Pzqpg0nveLkFBerYLLlEAsnCPgo43cTHaYpqe5cf1xPYgH1IlOc00DlUsLCX904w3qMz/IEAAAAbQZ9vRTRMK/85quB7owDeeqq6Fmk6bLNl+ZDBAAAAEwGfjnRCfwCoI2RH8D+ZiEtmHUAAAAARAZ+QakJ/P9BpqxSNZGNLu7AAAAAzQZuTSahBaJlMFPDP/p4QA+HCdJdPAPADa4+3JxvD5hXzm4LjHW5kbdSr7c0Ow0NVgInhAAAAJgGfsmpCfwENky8AcmGpaBm6+jcQNHyPQC4x2XSwAHjqi/gg69SwAAAAFkGbtEnhClJlMCGf/p4QAwq6+p5OtoAAAAAsQZvXSeEOiZTAhn/+nhADD/B4+gwQMALPj7cnG8PmFfObguMdbmRt1Kvt420AAAAWQZ/1RRE8K/8A0smUaXrmThh4drFsxgAAABMBnhZqQn8BDdxzWV6TpQXevU/TAAAAGUGaGEmoQWiZTAhv//6nhADN+yoyDLaspI0AAAAtQZo7SeEKUmUwIZ/+nhACbfFjaBZ/yAHAxMOTjeHzCvnNwXGOtzI26lX28eOAAAAAFkGeWUU0TCv/ANLJka0vXMXNteWkkusAAAATAZ56akJ/AQ3cXWsr0ljuTy0QDAAAABlBmnxJqEFomUwIb//+p4QAo/vCiLWi7oYZAAAALUGan0nhClJlMCG//qeEAHy9lSWgjHAASni7t6vKPmdQhaBfcdblzwrI116NYQAAABZBnr1FNEwr/wDSyZCUtsJeHNJUZHpbAAAAEwGe3mpCfwEN3FSllek7+mXwyOgAAAAZQZrASahBaJlMCG///qeEAH99lRkGW1ZUNQAAABVBmuRJ4QpSZTAhv/6nhABk+E808MgAAAAqQZ8CRTRMK/8A0smQWSbLVOAF9hcgtB2RoTJV8/sUDT6eNf2ElgExI1wpAAAAFAGfIXRCfwENaqxLUFusPDpTdJWAAAAAEAGfI2pCfwEN3FLHXbCKpPEAAAASQZsoSahBaJlMCG///qeEADUhAAAAEEGfRkURLCv/ANLYcFl0l6EAAAANAZ9ldEJ/AQ1qrEtAFQAAAA0Bn2dqQn8BDdxSx070AAAAS0GbbEmoQWyZTAhv//6StL3AHFPH/7DDxrZW1o0v1AsTDonDy7/vHB+wAGRPjbc0AwbjEesrR9ei6IGNShtN1U8LWntYWQ0I6hfy4AAAADBBn4pFFSwr/zlV77NykWAImMw44NRjX+MblXBwGIWB09ee8j8HMmebpag3ymGcz9UAAAAoAZ+pdEJ/Pu4ps1YzNAEIb7KlSMbjYc6jHwdOrI2T99/1gA2p0IQJSAAAACgBn6tqQn8BRmeRC+TCncAQhvsqVIxuNhzqMfB06r//4PMEO/TL7ONgAAAAM0GbsEmoQWyZTAhv//6nhADteoyrCPL9EQARB5hc4pa0CyZr5rgKW3TWtPawshoR1DINgQAAAC5Bn85FFSwr/wDDkG1MQAjIzDjg1GNf4xuVcHAJ1I3z3kfg5kzzdLUHFh6amXyBAAAAJQGf7XRCfwD4bEec4ANpPsqVIxuNhzqMfB06sjZP33/VqDdLNfEAAAAlAZ/vakJ/APME2bdNAEIb7KlSMbjYc6jHwdOq//+DzBFyMLktHwAAADZBm/RJqEFsmUwIb//+p4QAtfvCW8Hl+iIAIg8wucUtaBZM181wFLbprWntYWQ0I6hlKzroCPAAAAAtQZ4SRRUsK/8AksixTEAIyMw44NRjX+MblXBwCdSN895H4OZM83S1BxYrWcQPAAAAJQGeMXRCfwC++XS2cAG0n2VKkY3Gw51GPg6dWRsn77/q1CxdPFAAAAAlAZ4zakJ/ALozcgwmgCEN9lSpGNxsOdRj4OnVf//B5gi5HsJqQQAAADdBmjdJqEFsmUwIb//+p4QAh3yLbH41/oIAISN1GJAH/t28X9cBS04+4OUpGcUu9OFlyRsdTgjBAAAALEGeVUUVLCv/AG6INqYgA23hxwajG42Oe8j8HTqyOXF/TTZLbdUuIrkP6CmgAAAALwGedmpCfwCOxG0QIAWHs+ypUjGv8VYaSxaSJ3pY/MvqMfBzJmlpBOJy/06emkyhAAAAMEGae0moQWyZTAhv//6nhABnfgLbty7rU7tDjnlzuPACytJNw7Kk7UX4P+tYqk8XuQAAACxBnplFFSwr/wBiLDxg+NbwAbbw44NRjcbHPeR+Dp1ZHLi/pmmNQYwufQluwAAAAC4Bnrh0Qn8AfDatT00gBGRkbmlSMbiKLvuErjeVpyvpLGKSwCZDPfxiH1dr/e7BAAAAKgGeumpCfwB8Xl74FGRACw9n2VKkY1/irDSWLRXMPrc6jHwcyZpaQTiUBgAAABVBmr9JqEFsmUwIb//+p4QATb6XEgkAAAARQZ7dRRUsK/8AYiw7q6+qsWEAAAAOAZ78dEJ/AHw2pt/7d8QAAAANAZ7+akJ/AHxeWyooXAAAAG1BmuNJqEFsmUwIZ//+iT306I/K0Atb4t/7idNBrlA7WtP0ELBpvS44Bz1Krr8fasQ/m7VljOhS8f3raN22oQzPtNJjHz4TOHa8/1MKc1roIMmqtd+aE6nhGn9xv+OIhsWGmb8VZC4hMzlEkF35AAAAHUGfAUUVLCv/OarJdK/iUWmiYShtStLZ9PZuuuqAAAAADQGfIHRCfwB8NqbgELkAAAA2AZ8iakJ/P0XTX2ReoAhwjI1T6VZ3U95HGC5NkdDOnLlWAImsbcC5Z3SqMy8iXk1Hmj8H15CGAAAAREGbJEmoQWyZTAhv//6nhADbudKKjMo1ZTshE7/A234BSbku6sWkabwP0dGQneUsDExNw2fuSwRli+BRD2gC9A8LHu+BAAAAG0GbSEnhClJlMCG//qeEANvgZ4m10mJ2LukD+QAAABdBn2ZFNEwr/wDnxvxUwCbm+pzBpXp9RwAAABUBn4V0Qn8BLWrSjr0j5bS0xnLCaiEAAAATAZ+HakJ/AS3ccupU1Ih61SeCkAAAAGBBm4pJqEFomUwU8N/+p4QAte/vgq39wAmmtZr0nWYur6FaNLD0P/9Svjpne2S1/IstAIqmnYYiltYwZ53ELEjn/H96nXLWBoGfI+wcPQdA3n462xTb0GHtfU30OKoOvM8AAAAbAZ+pakJ/AS4XpYuqEPD2q8fXC5F3gTeyZR+3AAAAQEGbrEnhClJlMFLDf/6nhAC1+8KUxX1P2Z/CAE61rNek6zF1fQrRpYeh4P2h+OGhPJeUz5Z7axSGINvFP/t+Hx8AAAAzAZ/LakJ/AL8HhYBqG2ct7jkjP/cYe+ZIbfPAC5defPBjsPzGF7CcVzH1TUBrvcsH1iWAAAAAQUGb0EnhDomUwIb//qeEAIqtpk4VBzNe6e/EcIATrWs16TrMXV9CtGlh6Hg/aH44aE8l5TPpgLVHxOZJTHItRLW5AAAANkGf7kUVPCv/AHRRLAAhRxbPfOT9PiS4skV0EFb/+leED2yJoP5c5QuVkg2wAgHpetWBZbzFoQAAABgBng10Qn8Alu7unUwjRRKFcrUIXFJMOikAAAARAZ4PakJ/AJbEYjts2eXTXhsAAAAZQZoUSahBaJlMCGf//p4QAa+3m+NbCfYbMAAAACdBnjJFESwr/wBdfEgAAcs1V6QXxUHtZxme5tZuX1LM3+g6BvtD3UEAAAAcAZ5RdEJ/AHbsfmAA2LCXqM+NaQJveBrHOhBtVAAAABkBnlNqQn8AdstXHobnEQAV/oWNKDfXt6TAAAAANkGaWEmoQWyZTAhf//6MsAFuT8kv5YGfwAIgzYtB7d+aPopKjg2la2IytlvJE3UH0V5ES1lf8QAAABBBnnZFFSwr/wBLddx+4/iAAAAACQGelXRCfwA3oQAAAA0BnpdqQn8AYh4CF4LfAAAANkGam0moQWyZTAhP//3xAA3RB5kt1LI/YQAXQKLeLWz6R2r+WTi3D9USfdtXS4oUm+inAVFPbwAAABBBnrlFFSwr/wBNZCcigZ8ZAAAACQGe2mpCfwA3oAAACKttb292AAAAbG12aGQAAAAAAAAAAAAAAAAAAAPoAAAQJgABAAABAAAAAAAAAAAAAAAAAQAAAAAAAAAAAAAAAAAAAAEAAAAAAAAAAAAAAAAAAEAAAAAAAAAAAAAAAAAAAAAAAAAAAAAAAAAAAAAAAAACAAAH1XRyYWsAAABcdGtoZAAAAAMAAAAAAAAAAAAAAAEAAAAAAAAQJgAAAAAAAAAAAAAAAAAAAAAAAQAAAAAAAAAAAAAAAAAAAAEAAAAAAAAAAAAAAAAAAEAAAAAAoAAAANIAAAAAACRlZHRzAAAAHGVsc3QAAAAAAAAAAQAAECYAAAQAAAEAAAAAB01tZGlhAAAAIG1kaGQAAAAAAAAAAAAAAAAAADwAAAD4AFXEAAAAAAAtaGRscgAAAAAAAAAAdmlkZQAAAAAAAAAAAAAAAFZpZGVvSGFuZGxlcgAAAAb4bWluZgAAABR2bWhkAAAAAQAAAAAAAAAAAAAAJGRpbmYAAAAcZHJlZgAAAAAAAAABAAAADHVybCAAAAABAAAGuHN0YmwAAACYc3RzZAAAAAAAAAABAAAAiGF2YzEAAAAAAAAAAQAAAAAAAAAAAAAAAAAAAAAAoADSAEgAAABIAAAAAAAAAAEAAAAAAAAAAAAAAAAAAAAAAAAAAAAAAAAAAAAAAAAAAAAY//8AAAAyYXZjQwFkAAz/4QAZZ2QADKzZQod+IhAAAAMAEAAAAwPA8UKZYAEABmjr48siwAAAABhzdHRzAAAAAAAAAAEAAAB8AAACAAAAABRzdHNzAAAAAAAAAAEAAAABAAADuGN0dHMAAAAAAAAAdQAAAAEAAAQAAAAAAQAACAAAAAACAAACAAAAAAEAAAoAAAAAAQAABAAAAAABAAAAAAAAAAEAAAIAAAAAAQAACgAAAAABAAAEAAAAAAEAAAAAAAAAAQAAAgAAAAABAAAKAAAAAAEAAAQAAAAAAQAAAAAAAAABAAACAAAAAAEAAAoAAAAAAQAABAAAAAABAAAAAAAAAAEAAAIAAAAAAQAACgAAAAABAAAEAAAAAAEAAAAAAAAAAQAAAgAAAAABAAAKAAAAAAEAAAQAAAAAAQAAAAAAAAABAAACAAAAAAEAAAoAAAAAAQAABAAAAAABAAAAAAAAAAEAAAIAAAAAAQAABAAAAAABAAAGAAAAAAEAAAIAAAAAAQAABAAAAAABAAAIAAAAAAIAAAIAAAAAAQAABgAAAAABAAACAAAAAAEAAAoAAAAAAQAABAAAAAABAAAAAAAAAAEAAAIAAAAAAQAABAAAAAABAAAKAAAAAAEAAAQAAAAAAQAAAAAAAAABAAACAAAAAAEAAAYAAAAAAQAAAgAAAAABAAAEAAAAAAEAAAgAAAAAAgAAAgAAAAABAAAEAAAAAAEAAAgAAAAAAgAAAgAAAAABAAAEAAAAAAEAAAgAAAAAAgAAAgAAAAABAAAEAAAAAAEAAAoAAAAAAQAABAAAAAABAAAAAAAAAAEAAAIAAAAAAQAACgAAAAABAAAEAAAAAAEAAAAAAAAAAQAAAgAAAAABAAAKAAAAAAEAAAQAAAAAAQAAAAAAAAABAAACAAAAAAEAAAoAAAAAAQAABAAAAAABAAAAAAAAAAEAAAIAAAAAAQAACgAAAAABAAAEAAAAAAEAAAAAAAAAAQAAAgAAAAABAAAIAAAAAAIAAAIAAAAAAQAACgAAAAABAAAEAAAAAAEAAAAAAAAAAQAAAgAAAAABAAAKAAAAAAEAAAQAAAAAAQAAAAAAAAABAAACAAAAAAEAAAoAAAAAAQAABAAAAAABAAAAAAAAAAEAAAIAAAAAAQAABAAAAAABAAAKAAAAAAEAAAQAAAAAAQAAAAAAAAABAAACAAAAAAEAAAYAAAAAAQAAAgAAAAABAAAGAAAAAAEAAAIAAAAAAQAACgAAAAABAAAEAAAAAAEAAAAAAAAAAQAAAgAAAAABAAAKAAAAAAEAAAQAAAAAAQAAAAAAAAABAAACAAAAAAEAAAoAAAAAAQAABAAAAAABAAAAAAAAAAEAAAIAAAAAAQAACAAAAAACAAACAAAAABxzdHNjAAAAAAAAAAEAAAABAAAAfAAAAAEAAAIEc3RzegAAAAAAAAAAAAAAfAAABOYAAAB1AAAAOgAAABoAAABIAAAAPwAAACEAAAAZAAAAPwAAADYAAAAYAAAAFQAAAD8AAAA2AAAAGQAAABUAAAAdAAAAKwAAACAAAAAdAAAAFgAAAA8AAAANAAAADQAAAEcAAAAkAAAAEgAAAB8AAAArAAAAIwAAACAAAAAfAAAANQAAAD4AAAAmAAAAMAAAADYAAAAtAAAAKAAAADAAAAAnAAAAIAAAACAAAAAkAAAAGAAAAG4AAABVAAAAHwAAABcAAAAVAAAANwAAACoAAAAaAAAAMAAAABoAAAAXAAAAHQAAADEAAAAaAAAAFwAAAB0AAAAxAAAAGgAAABcAAAAdAAAAGQAAAC4AAAAYAAAAFAAAABYAAAAUAAAAEQAAABEAAABPAAAANAAAACwAAAAsAAAANwAAADIAAAApAAAAKQAAADoAAAAxAAAAKQAAACkAAAA7AAAAMAAAADMAAAA0AAAAMAAAADIAAAAuAAAAGQAAABUAAAASAAAAEQAAAHEAAAAhAAAAEQAAADoAAABIAAAAHwAAABsAAAAZAAAAFwAAAGQAAAAfAAAARAAAADcAAABFAAAAOgAAABwAAAAVAAAAHQAAACsAAAAgAAAAHQAAADoAAAAUAAAADQAAABEAAAA6AAAAFAAAAA0AAAAUc3RjbwAAAAAAAAABAAAAMAAAAGJ1ZHRhAAAAWm1ldGEAAAAAAAAAIWhkbHIAAAAAAAAAAG1kaXJhcHBsAAAAAAAAAAAAAAAALWlsc3QAAAAlqXRvbwAAAB1kYXRhAAAAAQAAAABMYXZmNTcuODMuMTAw\" type=\"video/mp4\" />\n",
              "             </video>"
            ],
            "text/plain": [
              "<IPython.core.display.HTML object>"
            ]
          },
          "metadata": {}
        },
        {
          "output_type": "display_data",
          "data": {
            "text/html": [
              "<video alt=\"test\" autoplay \n",
              "                loop controls style=\"height: 400px;\">\n",
              "                <source src=\"data:video/mp4;base64,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\" type=\"video/mp4\" />\n",
              "             </video>"
            ],
            "text/plain": [
              "<IPython.core.display.HTML object>"
            ]
          },
          "metadata": {}
        }
      ]
    },
    {
      "cell_type": "code",
      "source": [
        ""
      ],
      "metadata": {
        "id": "Ja-JnqosoXra"
      },
      "execution_count": 11,
      "outputs": []
    }
  ]
}