{
  "nbformat": 4,
  "nbformat_minor": 0,
  "metadata": {
    "colab": {
      "provenance": [],
      "collapsed_sections": [],
      "toc_visible": true
    },
    "kernelspec": {
      "name": "python3",
      "display_name": "Python 3"
    },
    "language_info": {
      "name": "python"
    },
    "widgets": {
      "application/vnd.jupyter.widget-state+json": {
        "54322da51c87452abed7fe058bc4519f": {
          "model_module": "@jupyter-widgets/controls",
          "model_name": "HBoxModel",
          "model_module_version": "1.5.0",
          "state": {
            "_dom_classes": [],
            "_model_module": "@jupyter-widgets/controls",
            "_model_module_version": "1.5.0",
            "_model_name": "HBoxModel",
            "_view_count": null,
            "_view_module": "@jupyter-widgets/controls",
            "_view_module_version": "1.5.0",
            "_view_name": "HBoxView",
            "box_style": "",
            "children": [
              "IPY_MODEL_c6bf3a5e7c1e4af4a4aa09f92d532b0f",
              "IPY_MODEL_6ddc3a86d9184d43b0934b000988c7a7",
              "IPY_MODEL_620eb78fb10a4f068375ab3b325e6d3d"
            ],
            "layout": "IPY_MODEL_539771ac9d554929a0658f5f58ef81af"
          }
        },
        "c6bf3a5e7c1e4af4a4aa09f92d532b0f": {
          "model_module": "@jupyter-widgets/controls",
          "model_name": "HTMLModel",
          "model_module_version": "1.5.0",
          "state": {
            "_dom_classes": [],
            "_model_module": "@jupyter-widgets/controls",
            "_model_module_version": "1.5.0",
            "_model_name": "HTMLModel",
            "_view_count": null,
            "_view_module": "@jupyter-widgets/controls",
            "_view_module_version": "1.5.0",
            "_view_name": "HTMLView",
            "description": "",
            "description_tooltip": null,
            "layout": "IPY_MODEL_884ba857159a4d4dae5dd66de01f5977",
            "placeholder": "​",
            "style": "IPY_MODEL_a5a9aca4461b4fd49d5dc5a34dea6839",
            "value": "100%"
          }
        },
        "6ddc3a86d9184d43b0934b000988c7a7": {
          "model_module": "@jupyter-widgets/controls",
          "model_name": "FloatProgressModel",
          "model_module_version": "1.5.0",
          "state": {
            "_dom_classes": [],
            "_model_module": "@jupyter-widgets/controls",
            "_model_module_version": "1.5.0",
            "_model_name": "FloatProgressModel",
            "_view_count": null,
            "_view_module": "@jupyter-widgets/controls",
            "_view_module_version": "1.5.0",
            "_view_name": "ProgressView",
            "bar_style": "success",
            "description": "",
            "description_tooltip": null,
            "layout": "IPY_MODEL_b143bdd19bac45a5a5c100e15e1e1915",
            "max": 10000,
            "min": 0,
            "orientation": "horizontal",
            "style": "IPY_MODEL_9134ccd61d4f425cb1224e1183796041",
            "value": 10000
          }
        },
        "620eb78fb10a4f068375ab3b325e6d3d": {
          "model_module": "@jupyter-widgets/controls",
          "model_name": "HTMLModel",
          "model_module_version": "1.5.0",
          "state": {
            "_dom_classes": [],
            "_model_module": "@jupyter-widgets/controls",
            "_model_module_version": "1.5.0",
            "_model_name": "HTMLModel",
            "_view_count": null,
            "_view_module": "@jupyter-widgets/controls",
            "_view_module_version": "1.5.0",
            "_view_name": "HTMLView",
            "description": "",
            "description_tooltip": null,
            "layout": "IPY_MODEL_9642962affa045e39221eb75104a500e",
            "placeholder": "​",
            "style": "IPY_MODEL_e8c8272193744f2cbbf8031e6195f4eb",
            "value": " 10000/10000 [00:02&lt;00:00, 5132.70it/s]"
          }
        },
        "539771ac9d554929a0658f5f58ef81af": {
          "model_module": "@jupyter-widgets/base",
          "model_name": "LayoutModel",
          "model_module_version": "1.2.0",
          "state": {
            "_model_module": "@jupyter-widgets/base",
            "_model_module_version": "1.2.0",
            "_model_name": "LayoutModel",
            "_view_count": null,
            "_view_module": "@jupyter-widgets/base",
            "_view_module_version": "1.2.0",
            "_view_name": "LayoutView",
            "align_content": null,
            "align_items": null,
            "align_self": null,
            "border": null,
            "bottom": null,
            "display": null,
            "flex": null,
            "flex_flow": null,
            "grid_area": null,
            "grid_auto_columns": null,
            "grid_auto_flow": null,
            "grid_auto_rows": null,
            "grid_column": null,
            "grid_gap": null,
            "grid_row": null,
            "grid_template_areas": null,
            "grid_template_columns": null,
            "grid_template_rows": null,
            "height": null,
            "justify_content": null,
            "justify_items": null,
            "left": null,
            "margin": null,
            "max_height": null,
            "max_width": null,
            "min_height": null,
            "min_width": null,
            "object_fit": null,
            "object_position": null,
            "order": null,
            "overflow": null,
            "overflow_x": null,
            "overflow_y": null,
            "padding": null,
            "right": null,
            "top": null,
            "visibility": null,
            "width": null
          }
        },
        "884ba857159a4d4dae5dd66de01f5977": {
          "model_module": "@jupyter-widgets/base",
          "model_name": "LayoutModel",
          "model_module_version": "1.2.0",
          "state": {
            "_model_module": "@jupyter-widgets/base",
            "_model_module_version": "1.2.0",
            "_model_name": "LayoutModel",
            "_view_count": null,
            "_view_module": "@jupyter-widgets/base",
            "_view_module_version": "1.2.0",
            "_view_name": "LayoutView",
            "align_content": null,
            "align_items": null,
            "align_self": null,
            "border": null,
            "bottom": null,
            "display": null,
            "flex": null,
            "flex_flow": null,
            "grid_area": null,
            "grid_auto_columns": null,
            "grid_auto_flow": null,
            "grid_auto_rows": null,
            "grid_column": null,
            "grid_gap": null,
            "grid_row": null,
            "grid_template_areas": null,
            "grid_template_columns": null,
            "grid_template_rows": null,
            "height": null,
            "justify_content": null,
            "justify_items": null,
            "left": null,
            "margin": null,
            "max_height": null,
            "max_width": null,
            "min_height": null,
            "min_width": null,
            "object_fit": null,
            "object_position": null,
            "order": null,
            "overflow": null,
            "overflow_x": null,
            "overflow_y": null,
            "padding": null,
            "right": null,
            "top": null,
            "visibility": null,
            "width": null
          }
        },
        "a5a9aca4461b4fd49d5dc5a34dea6839": {
          "model_module": "@jupyter-widgets/controls",
          "model_name": "DescriptionStyleModel",
          "model_module_version": "1.5.0",
          "state": {
            "_model_module": "@jupyter-widgets/controls",
            "_model_module_version": "1.5.0",
            "_model_name": "DescriptionStyleModel",
            "_view_count": null,
            "_view_module": "@jupyter-widgets/base",
            "_view_module_version": "1.2.0",
            "_view_name": "StyleView",
            "description_width": ""
          }
        },
        "b143bdd19bac45a5a5c100e15e1e1915": {
          "model_module": "@jupyter-widgets/base",
          "model_name": "LayoutModel",
          "model_module_version": "1.2.0",
          "state": {
            "_model_module": "@jupyter-widgets/base",
            "_model_module_version": "1.2.0",
            "_model_name": "LayoutModel",
            "_view_count": null,
            "_view_module": "@jupyter-widgets/base",
            "_view_module_version": "1.2.0",
            "_view_name": "LayoutView",
            "align_content": null,
            "align_items": null,
            "align_self": null,
            "border": null,
            "bottom": null,
            "display": null,
            "flex": null,
            "flex_flow": null,
            "grid_area": null,
            "grid_auto_columns": null,
            "grid_auto_flow": null,
            "grid_auto_rows": null,
            "grid_column": null,
            "grid_gap": null,
            "grid_row": null,
            "grid_template_areas": null,
            "grid_template_columns": null,
            "grid_template_rows": null,
            "height": null,
            "justify_content": null,
            "justify_items": null,
            "left": null,
            "margin": null,
            "max_height": null,
            "max_width": null,
            "min_height": null,
            "min_width": null,
            "object_fit": null,
            "object_position": null,
            "order": null,
            "overflow": null,
            "overflow_x": null,
            "overflow_y": null,
            "padding": null,
            "right": null,
            "top": null,
            "visibility": null,
            "width": null
          }
        },
        "9134ccd61d4f425cb1224e1183796041": {
          "model_module": "@jupyter-widgets/controls",
          "model_name": "ProgressStyleModel",
          "model_module_version": "1.5.0",
          "state": {
            "_model_module": "@jupyter-widgets/controls",
            "_model_module_version": "1.5.0",
            "_model_name": "ProgressStyleModel",
            "_view_count": null,
            "_view_module": "@jupyter-widgets/base",
            "_view_module_version": "1.2.0",
            "_view_name": "StyleView",
            "bar_color": null,
            "description_width": ""
          }
        },
        "9642962affa045e39221eb75104a500e": {
          "model_module": "@jupyter-widgets/base",
          "model_name": "LayoutModel",
          "model_module_version": "1.2.0",
          "state": {
            "_model_module": "@jupyter-widgets/base",
            "_model_module_version": "1.2.0",
            "_model_name": "LayoutModel",
            "_view_count": null,
            "_view_module": "@jupyter-widgets/base",
            "_view_module_version": "1.2.0",
            "_view_name": "LayoutView",
            "align_content": null,
            "align_items": null,
            "align_self": null,
            "border": null,
            "bottom": null,
            "display": null,
            "flex": null,
            "flex_flow": null,
            "grid_area": null,
            "grid_auto_columns": null,
            "grid_auto_flow": null,
            "grid_auto_rows": null,
            "grid_column": null,
            "grid_gap": null,
            "grid_row": null,
            "grid_template_areas": null,
            "grid_template_columns": null,
            "grid_template_rows": null,
            "height": null,
            "justify_content": null,
            "justify_items": null,
            "left": null,
            "margin": null,
            "max_height": null,
            "max_width": null,
            "min_height": null,
            "min_width": null,
            "object_fit": null,
            "object_position": null,
            "order": null,
            "overflow": null,
            "overflow_x": null,
            "overflow_y": null,
            "padding": null,
            "right": null,
            "top": null,
            "visibility": null,
            "width": null
          }
        },
        "e8c8272193744f2cbbf8031e6195f4eb": {
          "model_module": "@jupyter-widgets/controls",
          "model_name": "DescriptionStyleModel",
          "model_module_version": "1.5.0",
          "state": {
            "_model_module": "@jupyter-widgets/controls",
            "_model_module_version": "1.5.0",
            "_model_name": "DescriptionStyleModel",
            "_view_count": null,
            "_view_module": "@jupyter-widgets/base",
            "_view_module_version": "1.2.0",
            "_view_name": "StyleView",
            "description_width": ""
          }
        },
        "41d58809131a4dcb8514b043acc7373b": {
          "model_module": "@jupyter-widgets/controls",
          "model_name": "HBoxModel",
          "model_module_version": "1.5.0",
          "state": {
            "_dom_classes": [],
            "_model_module": "@jupyter-widgets/controls",
            "_model_module_version": "1.5.0",
            "_model_name": "HBoxModel",
            "_view_count": null,
            "_view_module": "@jupyter-widgets/controls",
            "_view_module_version": "1.5.0",
            "_view_name": "HBoxView",
            "box_style": "",
            "children": [
              "IPY_MODEL_cc202f64f9a641b1a483b4e5f21745ab",
              "IPY_MODEL_127754cf645d433e8cd2c31376de251f",
              "IPY_MODEL_828b4d2aa86e47c2b87d7f9fe1f26f27"
            ],
            "layout": "IPY_MODEL_6109367f28a94391872c5afe4a306172"
          }
        },
        "cc202f64f9a641b1a483b4e5f21745ab": {
          "model_module": "@jupyter-widgets/controls",
          "model_name": "HTMLModel",
          "model_module_version": "1.5.0",
          "state": {
            "_dom_classes": [],
            "_model_module": "@jupyter-widgets/controls",
            "_model_module_version": "1.5.0",
            "_model_name": "HTMLModel",
            "_view_count": null,
            "_view_module": "@jupyter-widgets/controls",
            "_view_module_version": "1.5.0",
            "_view_name": "HTMLView",
            "description": "",
            "description_tooltip": null,
            "layout": "IPY_MODEL_77a6a0867d684e82a0327227b7d37d04",
            "placeholder": "​",
            "style": "IPY_MODEL_6f54cc5e61ef4b5189aa47e6ebe63e91",
            "value": "100%"
          }
        },
        "127754cf645d433e8cd2c31376de251f": {
          "model_module": "@jupyter-widgets/controls",
          "model_name": "FloatProgressModel",
          "model_module_version": "1.5.0",
          "state": {
            "_dom_classes": [],
            "_model_module": "@jupyter-widgets/controls",
            "_model_module_version": "1.5.0",
            "_model_name": "FloatProgressModel",
            "_view_count": null,
            "_view_module": "@jupyter-widgets/controls",
            "_view_module_version": "1.5.0",
            "_view_name": "ProgressView",
            "bar_style": "success",
            "description": "",
            "description_tooltip": null,
            "layout": "IPY_MODEL_619a40ebbeca4ab89b2fa4ac3f75635d",
            "max": 100,
            "min": 0,
            "orientation": "horizontal",
            "style": "IPY_MODEL_260c618e4fdd40869cde0c73de042bd4",
            "value": 100
          }
        },
        "828b4d2aa86e47c2b87d7f9fe1f26f27": {
          "model_module": "@jupyter-widgets/controls",
          "model_name": "HTMLModel",
          "model_module_version": "1.5.0",
          "state": {
            "_dom_classes": [],
            "_model_module": "@jupyter-widgets/controls",
            "_model_module_version": "1.5.0",
            "_model_name": "HTMLModel",
            "_view_count": null,
            "_view_module": "@jupyter-widgets/controls",
            "_view_module_version": "1.5.0",
            "_view_name": "HTMLView",
            "description": "",
            "description_tooltip": null,
            "layout": "IPY_MODEL_618741c8a2fc42718d05010cd7bda458",
            "placeholder": "​",
            "style": "IPY_MODEL_c2a007fdb0284a53ad1207f46da678fd",
            "value": " 100/100 [00:00&lt;00:00, 1388.15it/s]"
          }
        },
        "6109367f28a94391872c5afe4a306172": {
          "model_module": "@jupyter-widgets/base",
          "model_name": "LayoutModel",
          "model_module_version": "1.2.0",
          "state": {
            "_model_module": "@jupyter-widgets/base",
            "_model_module_version": "1.2.0",
            "_model_name": "LayoutModel",
            "_view_count": null,
            "_view_module": "@jupyter-widgets/base",
            "_view_module_version": "1.2.0",
            "_view_name": "LayoutView",
            "align_content": null,
            "align_items": null,
            "align_self": null,
            "border": null,
            "bottom": null,
            "display": null,
            "flex": null,
            "flex_flow": null,
            "grid_area": null,
            "grid_auto_columns": null,
            "grid_auto_flow": null,
            "grid_auto_rows": null,
            "grid_column": null,
            "grid_gap": null,
            "grid_row": null,
            "grid_template_areas": null,
            "grid_template_columns": null,
            "grid_template_rows": null,
            "height": null,
            "justify_content": null,
            "justify_items": null,
            "left": null,
            "margin": null,
            "max_height": null,
            "max_width": null,
            "min_height": null,
            "min_width": null,
            "object_fit": null,
            "object_position": null,
            "order": null,
            "overflow": null,
            "overflow_x": null,
            "overflow_y": null,
            "padding": null,
            "right": null,
            "top": null,
            "visibility": null,
            "width": null
          }
        },
        "77a6a0867d684e82a0327227b7d37d04": {
          "model_module": "@jupyter-widgets/base",
          "model_name": "LayoutModel",
          "model_module_version": "1.2.0",
          "state": {
            "_model_module": "@jupyter-widgets/base",
            "_model_module_version": "1.2.0",
            "_model_name": "LayoutModel",
            "_view_count": null,
            "_view_module": "@jupyter-widgets/base",
            "_view_module_version": "1.2.0",
            "_view_name": "LayoutView",
            "align_content": null,
            "align_items": null,
            "align_self": null,
            "border": null,
            "bottom": null,
            "display": null,
            "flex": null,
            "flex_flow": null,
            "grid_area": null,
            "grid_auto_columns": null,
            "grid_auto_flow": null,
            "grid_auto_rows": null,
            "grid_column": null,
            "grid_gap": null,
            "grid_row": null,
            "grid_template_areas": null,
            "grid_template_columns": null,
            "grid_template_rows": null,
            "height": null,
            "justify_content": null,
            "justify_items": null,
            "left": null,
            "margin": null,
            "max_height": null,
            "max_width": null,
            "min_height": null,
            "min_width": null,
            "object_fit": null,
            "object_position": null,
            "order": null,
            "overflow": null,
            "overflow_x": null,
            "overflow_y": null,
            "padding": null,
            "right": null,
            "top": null,
            "visibility": null,
            "width": null
          }
        },
        "6f54cc5e61ef4b5189aa47e6ebe63e91": {
          "model_module": "@jupyter-widgets/controls",
          "model_name": "DescriptionStyleModel",
          "model_module_version": "1.5.0",
          "state": {
            "_model_module": "@jupyter-widgets/controls",
            "_model_module_version": "1.5.0",
            "_model_name": "DescriptionStyleModel",
            "_view_count": null,
            "_view_module": "@jupyter-widgets/base",
            "_view_module_version": "1.2.0",
            "_view_name": "StyleView",
            "description_width": ""
          }
        },
        "619a40ebbeca4ab89b2fa4ac3f75635d": {
          "model_module": "@jupyter-widgets/base",
          "model_name": "LayoutModel",
          "model_module_version": "1.2.0",
          "state": {
            "_model_module": "@jupyter-widgets/base",
            "_model_module_version": "1.2.0",
            "_model_name": "LayoutModel",
            "_view_count": null,
            "_view_module": "@jupyter-widgets/base",
            "_view_module_version": "1.2.0",
            "_view_name": "LayoutView",
            "align_content": null,
            "align_items": null,
            "align_self": null,
            "border": null,
            "bottom": null,
            "display": null,
            "flex": null,
            "flex_flow": null,
            "grid_area": null,
            "grid_auto_columns": null,
            "grid_auto_flow": null,
            "grid_auto_rows": null,
            "grid_column": null,
            "grid_gap": null,
            "grid_row": null,
            "grid_template_areas": null,
            "grid_template_columns": null,
            "grid_template_rows": null,
            "height": null,
            "justify_content": null,
            "justify_items": null,
            "left": null,
            "margin": null,
            "max_height": null,
            "max_width": null,
            "min_height": null,
            "min_width": null,
            "object_fit": null,
            "object_position": null,
            "order": null,
            "overflow": null,
            "overflow_x": null,
            "overflow_y": null,
            "padding": null,
            "right": null,
            "top": null,
            "visibility": null,
            "width": null
          }
        },
        "260c618e4fdd40869cde0c73de042bd4": {
          "model_module": "@jupyter-widgets/controls",
          "model_name": "ProgressStyleModel",
          "model_module_version": "1.5.0",
          "state": {
            "_model_module": "@jupyter-widgets/controls",
            "_model_module_version": "1.5.0",
            "_model_name": "ProgressStyleModel",
            "_view_count": null,
            "_view_module": "@jupyter-widgets/base",
            "_view_module_version": "1.2.0",
            "_view_name": "StyleView",
            "bar_color": null,
            "description_width": ""
          }
        },
        "618741c8a2fc42718d05010cd7bda458": {
          "model_module": "@jupyter-widgets/base",
          "model_name": "LayoutModel",
          "model_module_version": "1.2.0",
          "state": {
            "_model_module": "@jupyter-widgets/base",
            "_model_module_version": "1.2.0",
            "_model_name": "LayoutModel",
            "_view_count": null,
            "_view_module": "@jupyter-widgets/base",
            "_view_module_version": "1.2.0",
            "_view_name": "LayoutView",
            "align_content": null,
            "align_items": null,
            "align_self": null,
            "border": null,
            "bottom": null,
            "display": null,
            "flex": null,
            "flex_flow": null,
            "grid_area": null,
            "grid_auto_columns": null,
            "grid_auto_flow": null,
            "grid_auto_rows": null,
            "grid_column": null,
            "grid_gap": null,
            "grid_row": null,
            "grid_template_areas": null,
            "grid_template_columns": null,
            "grid_template_rows": null,
            "height": null,
            "justify_content": null,
            "justify_items": null,
            "left": null,
            "margin": null,
            "max_height": null,
            "max_width": null,
            "min_height": null,
            "min_width": null,
            "object_fit": null,
            "object_position": null,
            "order": null,
            "overflow": null,
            "overflow_x": null,
            "overflow_y": null,
            "padding": null,
            "right": null,
            "top": null,
            "visibility": null,
            "width": null
          }
        },
        "c2a007fdb0284a53ad1207f46da678fd": {
          "model_module": "@jupyter-widgets/controls",
          "model_name": "DescriptionStyleModel",
          "model_module_version": "1.5.0",
          "state": {
            "_model_module": "@jupyter-widgets/controls",
            "_model_module_version": "1.5.0",
            "_model_name": "DescriptionStyleModel",
            "_view_count": null,
            "_view_module": "@jupyter-widgets/base",
            "_view_module_version": "1.2.0",
            "_view_name": "StyleView",
            "description_width": ""
          }
        }
      }
    }
  },
  "cells": [
    {
      "cell_type": "markdown",
      "source": [
        "# Instalando"
      ],
      "metadata": {
        "id": "Z9M4-2JaGjBy"
      }
    },
    {
      "cell_type": "code",
      "source": [
        "%%capture\n",
        "!pip install pyglet==1.5.1 \n",
        "!apt install python-opengl\n",
        "!apt install ffmpeg\n",
        "!apt install xvfb\n",
        "!pip3 install pyvirtualdisplay\n",
        "\n",
        "# Virtual display\n",
        "from pyvirtualdisplay import Display\n",
        "\n",
        "virtual_display = Display(visible=0, size=(1400, 900))\n",
        "virtual_display.start()"
      ],
      "metadata": {
        "id": "P8Bblrji5z0X"
      },
      "execution_count": 1,
      "outputs": []
    },
    {
      "cell_type": "code",
      "source": [
        "%%capture\n",
        "!pip install gym==0.23.1#0.24 # We install the newest gym version for the Taxi-v3 \"rgb_array version\"\n",
        "!pip install pygame\n",
        "!pip install numpy\n",
        "\n",
        "!pip install huggingface_hub\n",
        "!pip install pickle5\n",
        "!pip install pyyaml==6.0 # avoid key error metadata\n",
        "!pip install imageio imageio_ffmpeg"
      ],
      "metadata": {
        "id": "lalOOLAO5zyA"
      },
      "execution_count": 2,
      "outputs": []
    },
    {
      "cell_type": "code",
      "source": [
        "import numpy as np\n",
        "import gym\n",
        "import random\n",
        "import imageio\n",
        "import os\n",
        "\n",
        "import pickle5 as pickle\n",
        "from tqdm.notebook import tqdm"
      ],
      "metadata": {
        "id": "3USK7Zib5zvf"
      },
      "execution_count": 3,
      "outputs": []
    },
    {
      "cell_type": "markdown",
      "source": [
        "# Juguemos al Black Jack\n",
        "\n",
        "https://www.gymlibrary.dev/environments/toy_text/blackjack/\n",
        "\n",
        "### Action Space\n",
        "There are two actions: stick (0), and hit (1).\n",
        "\n",
        "### Observation Space\n",
        "The observation consists of a 3-tuple containing: the player’s current sum, the value of the dealer’s one showing card (1-10 where 1 is ace), and whether the player holds a usable ace (0 or 1).\n",
        "\n",
        "...\n",
        "\n",
        "### Rewards\n",
        "win game: +1\n",
        "\n",
        "lose game: -1\n",
        "\n",
        "draw game: 0\n",
        "\n",
        "win game with natural blackjack:\n",
        "\n",
        "* +1.5 (if natural is True)\n",
        "\n",
        "* +1 (if natural is False)\n",
        "\n"
      ],
      "metadata": {
        "id": "nyswc5KFt1UQ"
      }
    },
    {
      "cell_type": "code",
      "source": [
        "env = gym.make(\"Blackjack-v1\")"
      ],
      "metadata": {
        "id": "4oyuDsRQ5zsz",
        "colab": {
          "base_uri": "https://localhost:8080/"
        },
        "outputId": "87e0b6b7-ff73-41f7-9e41-f7a8540a3774"
      },
      "execution_count": 4,
      "outputs": [
        {
          "output_type": "stream",
          "name": "stderr",
          "text": [
            "/usr/local/lib/python3.7/dist-packages/gym/core.py:318: DeprecationWarning: \u001b[33mWARN: Initializing wrapper in old step API which returns one bool instead of two. It is recommended to set `new_step_api=True` to use new step API. This will be the default behaviour in future.\u001b[0m\n",
            "  \"Initializing wrapper in old step API which returns one bool instead of two. It is recommended to set `new_step_api=True` to use new step API. This will be the default behaviour in future.\"\n",
            "/usr/local/lib/python3.7/dist-packages/gym/wrappers/step_api_compatibility.py:40: DeprecationWarning: \u001b[33mWARN: Initializing environment in old step API which returns one bool instead of two. It is recommended to set `new_step_api=True` to use new step API. This will be the default behaviour in future.\u001b[0m\n",
            "  \"Initializing environment in old step API which returns one bool instead of two. It is recommended to set `new_step_api=True` to use new step API. This will be the default behaviour in future.\"\n"
          ]
        }
      ]
    },
    {
      "cell_type": "code",
      "source": [
        "env.reset()\n",
        "print(\"Espacion de observación\", env.observation_space)\n",
        "print(\"Muestra\", env.observation_space.sample()) # Get a random observation"
      ],
      "metadata": {
        "colab": {
          "base_uri": "https://localhost:8080/"
        },
        "id": "XBBarizc5zqT",
        "outputId": "0c8f4d9d-e517-4dcc-dc89-62f7b966ab13"
      },
      "execution_count": 5,
      "outputs": [
        {
          "output_type": "stream",
          "name": "stdout",
          "text": [
            "_____ESPACIO DE OBSERVACIÓN_____ \n",
            "\n",
            "Espacion de observación Tuple(Discrete(32), Discrete(11), Discrete(2))\n",
            "Muestra (28, 10, 1)\n"
          ]
        }
      ]
    },
    {
      "cell_type": "code",
      "source": [
        "#@title\n",
        "import itertools\n",
        "s=[]\n",
        "for i in env.observation_space:\n",
        "  s.append(np.arange(i.n))\n",
        "\n",
        "print(\"Hay\", len(list(itertools.product(*s))), \"posibles estados\")\n",
        "state_space = (len(i) for i in s)"
      ],
      "metadata": {
        "colab": {
          "base_uri": "https://localhost:8080/"
        },
        "id": "ph1rwmTX6GPd",
        "outputId": "3e6e7d61-aab3-4aae-947f-15b023b67af9"
      },
      "execution_count": 6,
      "outputs": [
        {
          "output_type": "stream",
          "name": "stdout",
          "text": [
            "Hay 704 posibles estados\n"
          ]
        }
      ]
    },
    {
      "cell_type": "code",
      "source": [
        "action_space = env.action_space.n\n",
        "print(\"Hay\", action_space, \"acciones posibles\")"
      ],
      "metadata": {
        "colab": {
          "base_uri": "https://localhost:8080/"
        },
        "id": "588YTBF6oc8O",
        "outputId": "c8f43ed5-b742-4a3b-ddb6-50e8f1f6c4f3"
      },
      "execution_count": 7,
      "outputs": [
        {
          "output_type": "stream",
          "name": "stdout",
          "text": [
            "Hay 2 acciones posibles\n"
          ]
        }
      ]
    },
    {
      "cell_type": "markdown",
      "source": [
        "# Preparamos la Q-Table"
      ],
      "metadata": {
        "id": "XJoA59m2G6SD"
      }
    },
    {
      "cell_type": "code",
      "source": [
        "# Creamos la QTable con las dimensiones del espacio de estados y las acciones posibles \n",
        "# (*state_space, action_space) e inicializamos todo a 0 con np.zeros\n",
        "def initialize_q_table(state_space, action_space):\n",
        "  Qtable = np.zeros((*state_space, action_space))\n",
        "  return Qtable"
      ],
      "metadata": {
        "id": "xxjwYA9O6GNa"
      },
      "execution_count": 8,
      "outputs": []
    },
    {
      "cell_type": "code",
      "source": [
        "Qtable_blackjack = initialize_q_table(state_space, action_space)\n",
        "Qtable_blackjack.shape"
      ],
      "metadata": {
        "id": "QP19Jhg65znt",
        "colab": {
          "base_uri": "https://localhost:8080/"
        },
        "outputId": "675618c1-98e4-4bbe-cf4c-e94df74fe2ca"
      },
      "execution_count": 9,
      "outputs": [
        {
          "output_type": "execute_result",
          "data": {
            "text/plain": [
              "(32, 11, 2, 2)"
            ]
          },
          "metadata": {},
          "execution_count": 9
        }
      ]
    },
    {
      "cell_type": "markdown",
      "source": [
        "# Políticas de Explotación"
      ],
      "metadata": {
        "id": "nV6u1tgHHU58"
      }
    },
    {
      "cell_type": "code",
      "source": [
        "def greedy_policy(Qtable, state):\n",
        "  # Explotación: toma la accion con mayor valor de estado y accion\n",
        "  action = np.argmax(Qtable[state])\n",
        "  \n",
        "  return action"
      ],
      "metadata": {
        "id": "_8wuFrFh6GId"
      },
      "execution_count": 11,
      "outputs": []
    },
    {
      "cell_type": "code",
      "source": [
        "def epsilon_greedy_policy(Qtable, state, epsilon):\n",
        "  # Generar número al azar\n",
        "  random_int = random.uniform(0,1)\n",
        "  # Si random_int mayor que epsilon --> explotación\n",
        "  if random_int > epsilon:\n",
        "    # Acción con mayor valor en un estado dado\n",
        "    action = np.argmax(Qtable[state])\n",
        "  # else --> exploracion\n",
        "  else:\n",
        "    action = np.random.choice(Qtable.shape[-1],1) #La accion es la última dimesión el último\n",
        "  \n",
        "  return action"
      ],
      "metadata": {
        "id": "wL_9jCnB6GKz"
      },
      "execution_count": 10,
      "outputs": []
    },
    {
      "cell_type": "markdown",
      "source": [
        "# Entrenamiento"
      ],
      "metadata": {
        "id": "TAhxg7MzHb1d"
      }
    },
    {
      "cell_type": "code",
      "source": [
        "def reinforcement_learning(Qtable,state,action,new_state,learning_rate,reward,gamma):\n",
        "  Qtable[state][action] = Qtable[state][action] + learning_rate * (reward + gamma * np.max(Qtable[new_state]) - Qtable[state][action])   \n",
        "  return Qtable"
      ],
      "metadata": {
        "id": "u8zF-k0jKMd-"
      },
      "execution_count": null,
      "outputs": []
    },
    {
      "cell_type": "code",
      "source": [
        "def train(n_training_episodes, min_epsilon, max_epsilon, decay_rate, env, max_steps, Qtable):\n",
        "  for episode in tqdm(range(n_training_episodes)):\n",
        "    # Bajar epsilor (cada vez menos exploración)\n",
        "    epsilon = min_epsilon + (max_epsilon - min_epsilon)*np.exp(-decay_rate*episode)\n",
        "    # Reset el entorno\n",
        "    state = env.reset()\n",
        "    state = state[:2] + (int(state[2]),)# gym devuelve un boolean, lo transformamos a entero\n",
        "    step = 0\n",
        "    done = False\n",
        "\n",
        "    # Repetir\n",
        "    for step in range(max_steps):\n",
        "      # Elegir la acción (At) usando una política\n",
        "      action = epsilon_greedy_policy(Qtable, state, epsilon)\n",
        "\n",
        "      # Hacer acción At y ver Rt+1 y St+1\n",
        "      new_state, reward, done, info = env.step(bool(action))# convertimos la accion a boolean\n",
        "      new_state = new_state[:2] + (int(new_state[2]),)# gym devuelve un boolean, lo transformamos a entero\n",
        "\n",
        "      # Actualizar qtable Q(s,a):= Q(s,a) + lr [R(s,a) + gamma * max Q(s',a') - Q(s,a)]\n",
        "      Qtable=reinforcement_learning(Qtable,state,action,new_state,learning_rate,reward,gamma)\n",
        "      # Si finaliza el juego, seguimos con la siguiente iteración\n",
        "      if done:\n",
        "        break\n",
        "      \n",
        "      # Ahora el estado es St+1\n",
        "      state = new_state\n",
        "  return Qtable"
      ],
      "metadata": {
        "id": "KkURGWwc6GDu"
      },
      "execution_count": 14,
      "outputs": []
    },
    {
      "cell_type": "code",
      "source": [
        "# Parámetros de entrenamiento\n",
        "n_training_episodes = 10000  # Episodios totales de entrenamiento\n",
        "learning_rate = 0.7          # Learning rate\n",
        "\n",
        "# Parámetros de evaluación\n",
        "n_eval_episodes = 100        # Episodios de test\n",
        "\n",
        "# Parámetros de entorno\n",
        "max_steps = 99               # Máximos pasos por episodio\n",
        "gamma = 0.95                 # Discounting rate\n",
        "\n",
        "# Parámetros de exploración\n",
        "max_epsilon = 1.0             # Ratio de exploración al inicio\n",
        "min_epsilon = 0.05            # Ratio mínimo de exploración\n",
        "decay_rate = 0.0005           # Exponential decay rate para la exploración"
      ],
      "metadata": {
        "id": "UZ1XTLQr6GGD"
      },
      "execution_count": 12,
      "outputs": []
    },
    {
      "cell_type": "code",
      "source": [
        "Qtable_blackjack = train(n_training_episodes, min_epsilon, max_epsilon, decay_rate, env, max_steps, Qtable_blackjack)"
      ],
      "metadata": {
        "colab": {
          "base_uri": "https://localhost:8080/",
          "height": 49,
          "referenced_widgets": [
            "54322da51c87452abed7fe058bc4519f",
            "c6bf3a5e7c1e4af4a4aa09f92d532b0f",
            "6ddc3a86d9184d43b0934b000988c7a7",
            "620eb78fb10a4f068375ab3b325e6d3d",
            "539771ac9d554929a0658f5f58ef81af",
            "884ba857159a4d4dae5dd66de01f5977",
            "a5a9aca4461b4fd49d5dc5a34dea6839",
            "b143bdd19bac45a5a5c100e15e1e1915",
            "9134ccd61d4f425cb1224e1183796041",
            "9642962affa045e39221eb75104a500e",
            "e8c8272193744f2cbbf8031e6195f4eb"
          ]
        },
        "id": "i_roCC7a6Vcu",
        "outputId": "d0a06b47-a06b-4497-ab0c-83affa9657a5"
      },
      "execution_count": 15,
      "outputs": [
        {
          "output_type": "display_data",
          "data": {
            "text/plain": [
              "  0%|          | 0/10000 [00:00<?, ?it/s]"
            ],
            "application/vnd.jupyter.widget-view+json": {
              "version_major": 2,
              "version_minor": 0,
              "model_id": "54322da51c87452abed7fe058bc4519f"
            }
          },
          "metadata": {}
        }
      ]
    },
    {
      "cell_type": "markdown",
      "source": [
        "# Evaluación"
      ],
      "metadata": {
        "id": "ATgxyNHHHhw3"
      }
    },
    {
      "cell_type": "code",
      "source": [
        "def evaluate_agent(env, max_steps, n_eval_episodes, Q):\n",
        "  episode_rewards = []\n",
        "  for episode in tqdm(range(n_eval_episodes)):\n",
        "    state = env.reset()\n",
        "    step = 0\n",
        "    done = False\n",
        "    total_rewards_ep = 0\n",
        "    \n",
        "    for step in range(max_steps):\n",
        "      # Tomar la acción con mayor recompensa esperada en el estado dado\n",
        "      state = state[:2] + (int(state[2]),)# gym devuelve un boolean, lo transformamos a entero\n",
        "      action = np.argmax(Q[state][:])\n",
        "      new_state, reward, done, info = env.step(bool(action))\n",
        "      total_rewards_ep += reward\n",
        "        \n",
        "      if done:\n",
        "        break\n",
        "      state = new_state\n",
        "    episode_rewards.append(total_rewards_ep)\n",
        "  mean_reward = np.mean(episode_rewards)\n",
        "  std_reward = np.std(episode_rewards)\n",
        "\n",
        "  return mean_reward, std_reward"
      ],
      "metadata": {
        "id": "1ERVv3l36VX6"
      },
      "execution_count": 16,
      "outputs": []
    },
    {
      "cell_type": "code",
      "source": [
        "# Evaluando\n",
        "mean_reward, std_reward = evaluate_agent(env, max_steps, n_eval_episodes, Qtable_blackjack)\n",
        "print(f\"Mean_reward={mean_reward:.2f} +/- {std_reward:.2f}\")"
      ],
      "metadata": {
        "id": "URaggltr6VVP",
        "colab": {
          "base_uri": "https://localhost:8080/",
          "height": 67,
          "referenced_widgets": [
            "41d58809131a4dcb8514b043acc7373b",
            "cc202f64f9a641b1a483b4e5f21745ab",
            "127754cf645d433e8cd2c31376de251f",
            "828b4d2aa86e47c2b87d7f9fe1f26f27",
            "6109367f28a94391872c5afe4a306172",
            "77a6a0867d684e82a0327227b7d37d04",
            "6f54cc5e61ef4b5189aa47e6ebe63e91",
            "619a40ebbeca4ab89b2fa4ac3f75635d",
            "260c618e4fdd40869cde0c73de042bd4",
            "618741c8a2fc42718d05010cd7bda458",
            "c2a007fdb0284a53ad1207f46da678fd"
          ]
        },
        "outputId": "7fadc82b-e359-4003-b8fd-3f956dd7ec63"
      },
      "execution_count": 17,
      "outputs": [
        {
          "output_type": "display_data",
          "data": {
            "text/plain": [
              "  0%|          | 0/100 [00:00<?, ?it/s]"
            ],
            "application/vnd.jupyter.widget-view+json": {
              "version_major": 2,
              "version_minor": 0,
              "model_id": "41d58809131a4dcb8514b043acc7373b"
            }
          },
          "metadata": {}
        },
        {
          "output_type": "stream",
          "name": "stdout",
          "text": [
            "Mean_reward=-0.20 +/- 0.96\n"
          ]
        }
      ]
    },
    {
      "cell_type": "code",
      "source": [
        "def record_video(env, Qtable, out_directory, fps=1):\n",
        "  images = []  \n",
        "  done = False\n",
        "  state = env.reset(seed=random.randint(0,500))\n",
        "  img = env.render(mode='rgb_array')\n",
        "  images.append(img)\n",
        "  while not done:\n",
        "    # Tomar la acción con mayor recompensa esperada en el estado dado\n",
        "    state = state[:2] + (int(state[2]),)# gym devuelve un boolean, lo transformamos a entero\n",
        "    action = np.argmax(Qtable[state][:])\n",
        "    state, reward, done, info = env.step(bool(action)) # next_state = state porque estamos jugando\n",
        "    img = env.render(mode='rgb_array')\n",
        "    images.append(img)\n",
        "  imageio.mimsave(out_directory, [np.array(img) for i, img in enumerate(images)], fps=fps)"
      ],
      "metadata": {
        "id": "A2xshjm46fGg"
      },
      "execution_count": 18,
      "outputs": []
    },
    {
      "cell_type": "code",
      "source": [
        "# Grabando unos vídeos\n",
        "import uuid\n",
        "for _ in range(5):\n",
        "  video_path=f'./{uuid.uuid1()}.mp4'\n",
        "  record_video(env, Qtable_blackjack, video_path, 1)"
      ],
      "metadata": {
        "id": "qYQGgNY-6fEI",
        "colab": {
          "base_uri": "https://localhost:8080/"
        },
        "outputId": "7013b0e4-0e78-422f-f38c-567c7db29549"
      },
      "execution_count": 32,
      "outputs": [
        {
          "output_type": "stream",
          "name": "stderr",
          "text": [
            "/usr/local/lib/python3.7/dist-packages/gym/core.py:44: DeprecationWarning: \u001b[33mWARN: The argument mode in render method is deprecated; use render_mode during environment initialization instead.\n",
            "See here for more information: https://www.gymlibrary.ml/content/api/\u001b[0m\n",
            "  \"The argument mode in render method is deprecated; \"\n",
            "WARNING:imageio_ffmpeg:IMAGEIO FFMPEG_WRITER WARNING: input image is not divisible by macro_block_size=16, resizing from (600, 500) to (608, 512) to ensure video compatibility with most codecs and players. To prevent resizing, make your input image divisible by the macro_block_size or set the macro_block_size to 1 (risking incompatibility).\n",
            "WARNING:imageio_ffmpeg:IMAGEIO FFMPEG_WRITER WARNING: input image is not divisible by macro_block_size=16, resizing from (600, 500) to (608, 512) to ensure video compatibility with most codecs and players. To prevent resizing, make your input image divisible by the macro_block_size or set the macro_block_size to 1 (risking incompatibility).\n",
            "WARNING:imageio_ffmpeg:IMAGEIO FFMPEG_WRITER WARNING: input image is not divisible by macro_block_size=16, resizing from (600, 500) to (608, 512) to ensure video compatibility with most codecs and players. To prevent resizing, make your input image divisible by the macro_block_size or set the macro_block_size to 1 (risking incompatibility).\n",
            "WARNING:imageio_ffmpeg:IMAGEIO FFMPEG_WRITER WARNING: input image is not divisible by macro_block_size=16, resizing from (600, 500) to (608, 512) to ensure video compatibility with most codecs and players. To prevent resizing, make your input image divisible by the macro_block_size or set the macro_block_size to 1 (risking incompatibility).\n"
          ]
        }
      ]
    },
    {
      "cell_type": "code",
      "source": [
        "import glob, io, base64\n",
        "from IPython import display as ipythondisplay\n",
        "from IPython.display import HTML\n",
        "\n",
        "def show_video():\n",
        "  mp4list = sorted(glob.glob('*.mp4'), key=os.path.getmtime)\n",
        "  for mp4 in mp4list:\n",
        "    # mp4 = mp4list[0]\n",
        "    video = io.open(mp4, 'r+b').read()\n",
        "    encoded = base64.b64encode(video)\n",
        "    ipythondisplay.display(HTML(data='''<h1>{1}</h1><video alt=\"test\" autoplay \n",
        "                loop controls style=\"height: 400px;\">\n",
        "                <source src=\"data:video/mp4;base64,{0}\" type=\"video/mp4\" />\n",
        "             </video>'''.format(encoded.decode('ascii'),mp4)))\n",
        "  else: \n",
        "    pass"
      ],
      "metadata": {
        "id": "iElweeoh6fB6"
      },
      "execution_count": 33,
      "outputs": []
    },
    {
      "cell_type": "code",
      "source": [
        "show_video()"
      ],
      "metadata": {
        "id": "9curJY0s6e_d",
        "colab": {
          "base_uri": "https://localhost:8080/",
          "height": 1000
        },
        "outputId": "c47d61c9-7d87-4d57-d6cd-1da41d782987"
      },
      "execution_count": 34,
      "outputs": [
        {
          "output_type": "display_data",
          "data": {
            "text/plain": [
              "<IPython.core.display.HTML object>"
            ],
            "text/html": [
              "<h1>replay.mp4</h1><video alt=\"test\" autoplay \n",
              "                loop controls style=\"height: 400px;\">\n",
              "                <source src=\"data:video/mp4;base64,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\" type=\"video/mp4\" />\n",
              "             </video>"
            ]
          },
          "metadata": {}
        },
        {
          "output_type": "display_data",
          "data": {
            "text/plain": [
              "<IPython.core.display.HTML object>"
            ],
            "text/html": [
              "<h1>e3cd8dfe-582f-11ed-b231-0242ac1c0002.mp4</h1><video alt=\"test\" autoplay \n",
              "                loop controls style=\"height: 400px;\">\n",
              "                <source src=\"data:video/mp4;base64,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\" type=\"video/mp4\" />\n",
              "             </video>"
            ]
          },
          "metadata": {}
        },
        {
          "output_type": "display_data",
          "data": {
            "text/plain": [
              "<IPython.core.display.HTML object>"
            ],
            "text/html": [
              "<h1>e3d6a088-582f-11ed-b231-0242ac1c0002.mp4</h1><video alt=\"test\" autoplay \n",
              "                loop controls style=\"height: 400px;\">\n",
              "                <source src=\"data:video/mp4;base64,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\" type=\"video/mp4\" />\n",
              "             </video>"
            ]
          },
          "metadata": {}
        },
        {
          "output_type": "display_data",
          "data": {
            "text/plain": [
              "<IPython.core.display.HTML object>"
            ],
            "text/html": [
              "<h1>e3e2203e-582f-11ed-b231-0242ac1c0002.mp4</h1><video alt=\"test\" autoplay \n",
              "                loop controls style=\"height: 400px;\">\n",
              "                <source src=\"data:video/mp4;base64,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\" type=\"video/mp4\" />\n",
              "             </video>"
            ]
          },
          "metadata": {}
        },
        {
          "output_type": "display_data",
          "data": {
            "text/plain": [
              "<IPython.core.display.HTML object>"
            ],
            "text/html": [
              "<h1>e3eb93a8-582f-11ed-b231-0242ac1c0002.mp4</h1><video alt=\"test\" autoplay \n",
              "                loop controls style=\"height: 400px;\">\n",
              "                <source src=\"data:video/mp4;base64,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\" type=\"video/mp4\" />\n",
              "             </video>"
            ]
          },
          "metadata": {}
        }
      ]
    },
    {
      "cell_type": "markdown",
      "source": [
        "Basado en:\n",
        "\n",
        "\n",
        "https://colab.research.google.com/github/huggingface/deep-rl-class/blob/main/unit2/unit2.ipynb#scrollTo=ZNPG0g_UGCfh"
      ],
      "metadata": {
        "id": "rmB56vYL5_TY"
      }
    },
    {
      "cell_type": "code",
      "source": [],
      "metadata": {
        "id": "loCwHxSKnafQ"
      },
      "execution_count": null,
      "outputs": []
    }
  ]
}